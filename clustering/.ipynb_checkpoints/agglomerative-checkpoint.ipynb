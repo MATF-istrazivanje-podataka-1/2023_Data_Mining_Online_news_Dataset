{
 "cells": [
  {
   "cell_type": "code",
   "execution_count": 1,
   "id": "1b3b0758",
   "metadata": {},
   "outputs": [],
   "source": [
    "import pandas as pd\n",
    "import numpy as np\n",
    "import matplotlib.pyplot as plt\n",
    "from sklearn.decomposition import PCA\n",
    "from sklearn.cluster import AgglomerativeClustering\n",
    "from sklearn.preprocessing import MinMaxScaler, normalize\n",
    "from sklearn.metrics import silhouette_score"
   ]
  },
  {
   "cell_type": "code",
   "execution_count": 2,
   "id": "1c1bbf9a",
   "metadata": {},
   "outputs": [],
   "source": [
    "%store -r X\n",
    "%store -r Y"
   ]
  },
  {
   "cell_type": "code",
   "execution_count": 5,
   "id": "c94bebd9",
   "metadata": {},
   "outputs": [],
   "source": [
    "X = X[0:8000]\n",
    "Y = Y[0:8000]"
   ]
  },
  {
   "cell_type": "code",
   "execution_count": 6,
   "id": "53120a65",
   "metadata": {},
   "outputs": [],
   "source": [
    "scaler = MinMaxScaler()\n",
    "X_scaled = scaler.fit_transform(X)\n",
    "X_normalized = normalize(X_scaled)\n",
    "X_normalized = pd.DataFrame(X_normalized)"
   ]
  },
  {
   "cell_type": "code",
   "execution_count": 7,
   "id": "75a7fd82",
   "metadata": {},
   "outputs": [
    {
     "data": {
      "text/html": [
       "<div>\n",
       "<style scoped>\n",
       "    .dataframe tbody tr th:only-of-type {\n",
       "        vertical-align: middle;\n",
       "    }\n",
       "\n",
       "    .dataframe tbody tr th {\n",
       "        vertical-align: top;\n",
       "    }\n",
       "\n",
       "    .dataframe thead th {\n",
       "        text-align: right;\n",
       "    }\n",
       "</style>\n",
       "<table border=\"1\" class=\"dataframe\">\n",
       "  <thead>\n",
       "    <tr style=\"text-align: right;\">\n",
       "      <th></th>\n",
       "      <th>P1</th>\n",
       "      <th>P2</th>\n",
       "    </tr>\n",
       "  </thead>\n",
       "  <tbody>\n",
       "    <tr>\n",
       "      <th>0</th>\n",
       "      <td>0.163638</td>\n",
       "      <td>-0.209647</td>\n",
       "    </tr>\n",
       "    <tr>\n",
       "      <th>1</th>\n",
       "      <td>0.135508</td>\n",
       "      <td>-0.191557</td>\n",
       "    </tr>\n",
       "    <tr>\n",
       "      <th>2</th>\n",
       "      <td>0.181119</td>\n",
       "      <td>-0.052580</td>\n",
       "    </tr>\n",
       "    <tr>\n",
       "      <th>3</th>\n",
       "      <td>0.156895</td>\n",
       "      <td>-0.136862</td>\n",
       "    </tr>\n",
       "    <tr>\n",
       "      <th>4</th>\n",
       "      <td>0.268269</td>\n",
       "      <td>0.239827</td>\n",
       "    </tr>\n",
       "    <tr>\n",
       "      <th>...</th>\n",
       "      <td>...</td>\n",
       "      <td>...</td>\n",
       "    </tr>\n",
       "    <tr>\n",
       "      <th>7995</th>\n",
       "      <td>-0.254447</td>\n",
       "      <td>-0.039582</td>\n",
       "    </tr>\n",
       "    <tr>\n",
       "      <th>7996</th>\n",
       "      <td>-0.128303</td>\n",
       "      <td>0.307262</td>\n",
       "    </tr>\n",
       "    <tr>\n",
       "      <th>7997</th>\n",
       "      <td>-0.189887</td>\n",
       "      <td>0.061773</td>\n",
       "    </tr>\n",
       "    <tr>\n",
       "      <th>7998</th>\n",
       "      <td>-0.156767</td>\n",
       "      <td>0.049558</td>\n",
       "    </tr>\n",
       "    <tr>\n",
       "      <th>7999</th>\n",
       "      <td>-0.106126</td>\n",
       "      <td>0.270658</td>\n",
       "    </tr>\n",
       "  </tbody>\n",
       "</table>\n",
       "<p>8000 rows × 2 columns</p>\n",
       "</div>"
      ],
      "text/plain": [
       "            P1        P2\n",
       "0     0.163638 -0.209647\n",
       "1     0.135508 -0.191557\n",
       "2     0.181119 -0.052580\n",
       "3     0.156895 -0.136862\n",
       "4     0.268269  0.239827\n",
       "...        ...       ...\n",
       "7995 -0.254447 -0.039582\n",
       "7996 -0.128303  0.307262\n",
       "7997 -0.189887  0.061773\n",
       "7998 -0.156767  0.049558\n",
       "7999 -0.106126  0.270658\n",
       "\n",
       "[8000 rows x 2 columns]"
      ]
     },
     "execution_count": 7,
     "metadata": {},
     "output_type": "execute_result"
    }
   ],
   "source": [
    "pca = PCA(n_components = 2)\n",
    "X_pca = pca.fit_transform(X_normalized)\n",
    "X_pca = pd.DataFrame(X_pca)\n",
    "X_pca.columns = ['P1', 'P2']\n",
    "X_pca"
   ]
  },
  {
   "cell_type": "code",
   "execution_count": 11,
   "id": "dcef245f",
   "metadata": {},
   "outputs": [],
   "source": [
    "clusters = range(4,11)\n",
    "linkages = ['average', 'ward', 'complete', 'single']\n",
    "metrics = ['euclidean', 'l1', 'l2', 'manhattan', 'cosine']\n",
    "silhouettes = []"
   ]
  },
  {
   "cell_type": "code",
   "execution_count": 12,
   "id": "e0eb2ebf",
   "metadata": {},
   "outputs": [
    {
     "data": {
      "text/plain": [
       "<Figure size 2000x2000 with 0 Axes>"
      ]
     },
     "metadata": {},
     "output_type": "display_data"
    }
   ],
   "source": [
    "fig = plt.figure(figsize=(20,20))\n",
    "idx = 1\n",
    "best_model = None\n",
    "max_score = float('-inf')"
   ]
  },
  {
   "cell_type": "code",
   "execution_count": 13,
   "id": "8cbaa63b",
   "metadata": {},
   "outputs": [
    {
     "ename": "ValueError",
     "evalue": "manhattan was provided as metric. Ward can only work with euclidean distances.",
     "output_type": "error",
     "traceback": [
      "\u001b[0;31m---------------------------------------------------------------------------\u001b[0m",
      "\u001b[0;31mValueError\u001b[0m                                Traceback (most recent call last)",
      "Cell \u001b[0;32mIn[13], line 7\u001b[0m\n\u001b[1;32m      5\u001b[0m         \u001b[38;5;28;01mcontinue\u001b[39;00m\n\u001b[1;32m      6\u001b[0m agglomerative_model \u001b[38;5;241m=\u001b[39m AgglomerativeClustering(n_clusters \u001b[38;5;241m=\u001b[39m cluster, linkage \u001b[38;5;241m=\u001b[39m linkage, metric \u001b[38;5;241m=\u001b[39m metric)\n\u001b[0;32m----> 7\u001b[0m \u001b[43magglomerative_model\u001b[49m\u001b[38;5;241;43m.\u001b[39;49m\u001b[43mfit\u001b[49m\u001b[43m(\u001b[49m\u001b[43mX_pca\u001b[49m\u001b[43m)\u001b[49m\n\u001b[1;32m      9\u001b[0m score \u001b[38;5;241m=\u001b[39m silhouette_score(X_pca, agglomerative_model\u001b[38;5;241m.\u001b[39mlabels_)\n\u001b[1;32m     10\u001b[0m \u001b[38;5;28;01mif\u001b[39;00m score \u001b[38;5;241m>\u001b[39m max_score:\n",
      "File \u001b[0;32m~/.local/lib/python3.10/site-packages/sklearn/cluster/_agglomerative.py:956\u001b[0m, in \u001b[0;36mAgglomerativeClustering.fit\u001b[0;34m(self, X, y)\u001b[0m\n\u001b[1;32m    954\u001b[0m \u001b[38;5;28mself\u001b[39m\u001b[38;5;241m.\u001b[39m_validate_params()\n\u001b[1;32m    955\u001b[0m X \u001b[38;5;241m=\u001b[39m \u001b[38;5;28mself\u001b[39m\u001b[38;5;241m.\u001b[39m_validate_data(X, ensure_min_samples\u001b[38;5;241m=\u001b[39m\u001b[38;5;241m2\u001b[39m)\n\u001b[0;32m--> 956\u001b[0m \u001b[38;5;28;01mreturn\u001b[39;00m \u001b[38;5;28;43mself\u001b[39;49m\u001b[38;5;241;43m.\u001b[39;49m\u001b[43m_fit\u001b[49m\u001b[43m(\u001b[49m\u001b[43mX\u001b[49m\u001b[43m)\u001b[49m\n",
      "File \u001b[0;32m~/.local/lib/python3.10/site-packages/sklearn/cluster/_agglomerative.py:1005\u001b[0m, in \u001b[0;36mAgglomerativeClustering._fit\u001b[0;34m(self, X)\u001b[0m\n\u001b[1;32m   1000\u001b[0m     \u001b[38;5;28;01mraise\u001b[39;00m \u001b[38;5;167;01mValueError\u001b[39;00m(\n\u001b[1;32m   1001\u001b[0m         \u001b[38;5;124m\"\u001b[39m\u001b[38;5;124mcompute_full_tree must be True if distance_threshold is set.\u001b[39m\u001b[38;5;124m\"\u001b[39m\n\u001b[1;32m   1002\u001b[0m     )\n\u001b[1;32m   1004\u001b[0m \u001b[38;5;28;01mif\u001b[39;00m \u001b[38;5;28mself\u001b[39m\u001b[38;5;241m.\u001b[39mlinkage \u001b[38;5;241m==\u001b[39m \u001b[38;5;124m\"\u001b[39m\u001b[38;5;124mward\u001b[39m\u001b[38;5;124m\"\u001b[39m \u001b[38;5;129;01mand\u001b[39;00m \u001b[38;5;28mself\u001b[39m\u001b[38;5;241m.\u001b[39m_metric \u001b[38;5;241m!=\u001b[39m \u001b[38;5;124m\"\u001b[39m\u001b[38;5;124meuclidean\u001b[39m\u001b[38;5;124m\"\u001b[39m:\n\u001b[0;32m-> 1005\u001b[0m     \u001b[38;5;28;01mraise\u001b[39;00m \u001b[38;5;167;01mValueError\u001b[39;00m(\n\u001b[1;32m   1006\u001b[0m         \u001b[38;5;124mf\u001b[39m\u001b[38;5;124m\"\u001b[39m\u001b[38;5;132;01m{\u001b[39;00m\u001b[38;5;28mself\u001b[39m\u001b[38;5;241m.\u001b[39m_metric\u001b[38;5;132;01m}\u001b[39;00m\u001b[38;5;124m was provided as metric. Ward can only \u001b[39m\u001b[38;5;124m\"\u001b[39m\n\u001b[1;32m   1007\u001b[0m         \u001b[38;5;124m\"\u001b[39m\u001b[38;5;124mwork with euclidean distances.\u001b[39m\u001b[38;5;124m\"\u001b[39m\n\u001b[1;32m   1008\u001b[0m     )\n\u001b[1;32m   1010\u001b[0m tree_builder \u001b[38;5;241m=\u001b[39m _TREE_BUILDERS[\u001b[38;5;28mself\u001b[39m\u001b[38;5;241m.\u001b[39mlinkage]\n\u001b[1;32m   1012\u001b[0m connectivity \u001b[38;5;241m=\u001b[39m \u001b[38;5;28mself\u001b[39m\u001b[38;5;241m.\u001b[39mconnectivity\n",
      "\u001b[0;31mValueError\u001b[0m: manhattan was provided as metric. Ward can only work with euclidean distances."
     ]
    }
   ],
   "source": [
    "for cluster in clusters:  \n",
    "    for linkage in linkages:\n",
    "        for metric in metrics:\n",
    "            if linkage == 'ward' and metric != 'euclidean':\n",
    "                continue\n",
    "        agglomerative_model = AgglomerativeClustering(n_clusters = cluster, linkage = linkage, metric = metric)\n",
    "        agglomerative_model.fit(X_pca)\n",
    "\n",
    "        score = silhouette_score(X_pca, agglomerative_model.labels_)\n",
    "        if score > max_score:\n",
    "            max_score = score\n",
    "            best_model = agglomerative_model"
   ]
  },
  {
   "cell_type": "code",
   "execution_count": null,
   "id": "e5c7f924",
   "metadata": {},
   "outputs": [],
   "source": []
  }
 ],
 "metadata": {
  "kernelspec": {
   "display_name": "Python 3 (ipykernel)",
   "language": "python",
   "name": "python3"
  },
  "language_info": {
   "codemirror_mode": {
    "name": "ipython",
    "version": 3
   },
   "file_extension": ".py",
   "mimetype": "text/x-python",
   "name": "python",
   "nbconvert_exporter": "python",
   "pygments_lexer": "ipython3",
   "version": "3.10.6"
  }
 },
 "nbformat": 4,
 "nbformat_minor": 5
}
