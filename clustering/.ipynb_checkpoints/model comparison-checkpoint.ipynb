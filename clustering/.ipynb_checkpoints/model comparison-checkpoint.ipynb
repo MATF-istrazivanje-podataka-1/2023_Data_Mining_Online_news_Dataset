{
 "cells": [
  {
   "cell_type": "code",
   "execution_count": 35,
   "id": "943a0cae",
   "metadata": {},
   "outputs": [],
   "source": [
    "import pandas as pd\n",
    "import numpy as np\n",
    "from matplotlib import pyplot as plt\n",
    "from sklearn.metrics import silhouette_score\n",
    "from sklearn.metrics import pair_confusion_matrix\n",
    "from sklearn.metrics import rand_score\n",
    "from sklearn.metrics import adjusted_rand_score"
   ]
  },
  {
   "cell_type": "code",
   "execution_count": 28,
   "id": "64e68350",
   "metadata": {},
   "outputs": [],
   "source": [
    "%store -r data\n",
    "%store -r agglomerative\n",
    "%store -r db\n",
    "%store -r db2\n",
    "%store -r X_sampled\n",
    "%store -r Y_sampled"
   ]
  },
  {
   "cell_type": "code",
   "execution_count": 16,
   "id": "15a7295d",
   "metadata": {},
   "outputs": [],
   "source": [
    "models = [agglomerative, db, db2]\n",
    "model_names = ['agglomerative', 'dbscan', 'dbscan2']"
   ]
  },
  {
   "cell_type": "code",
   "execution_count": 29,
   "id": "fe5c895b",
   "metadata": {},
   "outputs": [],
   "source": [
    "X = X_sampled\n",
    "Y = Y_sampled"
   ]
  },
  {
   "cell_type": "code",
   "execution_count": 18,
   "id": "f1948d8e",
   "metadata": {},
   "outputs": [
    {
     "data": {
      "image/png": "[encoded data removed]",
      "text/plain": [
       "<Figure size 640x480 with 1 Axes>"
      ]
     },
     "metadata": {},
     "output_type": "display_data"
    }
   ],
   "source": [
    "for model, model_name in zip(models, model_names):\n",
    "    score = silhouette_score(X, model.labels_)\n",
    "    score_bar = plt.bar(model_name, score)\n",
    "    height = score_bar[0].get_height()\n",
    "    plt.text(score_bar[0].get_x() + score_bar[0].get_width() / 2.0, height, f'{score:.4f}', ha='center', va='bottom')\n",
    "    plt.title('Silhouette score')"
   ]
  },
  {
   "cell_type": "code",
   "execution_count": 37,
   "id": "cdd0c860",
   "metadata": {},
   "outputs": [
    {
     "name": "stdout",
     "output_type": "stream",
     "text": [
      "agglomerative\n"
     ]
    },
    {
     "ename": "UFuncTypeError",
     "evalue": "ufunc 'add' did not contain a loop with signature matching types (dtype('int64'), dtype('<U1')) -> None",
     "output_type": "error",
     "traceback": [
      "\u001b[0;31m---------------------------------------------------------------------------\u001b[0m",
      "\u001b[0;31mUFuncTypeError\u001b[0m                            Traceback (most recent call last)",
      "Cell \u001b[0;32mIn[37], line 4\u001b[0m\n\u001b[1;32m      2\u001b[0m matrix \u001b[38;5;241m=\u001b[39m pair_confusion_matrix(Y, model\u001b[38;5;241m.\u001b[39mlabels_)\n\u001b[1;32m      3\u001b[0m \u001b[38;5;28mprint\u001b[39m(model_name)\n\u001b[0;32m----> 4\u001b[0m \u001b[38;5;28mprint\u001b[39m(\u001b[43mmatrix\u001b[49m\u001b[43m \u001b[49m\u001b[38;5;241;43m+\u001b[39;49m\u001b[43m \u001b[49m\u001b[38;5;124;43m'\u001b[39;49m\u001b[38;5;130;43;01m\\n\u001b[39;49;00m\u001b[38;5;124;43m'\u001b[39;49m)\n",
      "\u001b[0;31mUFuncTypeError\u001b[0m: ufunc 'add' did not contain a loop with signature matching types (dtype('int64'), dtype('<U1')) -> None"
     ]
    }
   ],
   "source": [
    "for model, model_name in zip(models, model_names):\n",
    "    matrix = pair_confusion_matrix(Y, model.labels_)\n",
    "    print(model_name)\n",
    "    print(matrix)\n",
    "    print('\\n')"
   ]
  },
  {
   "cell_type": "code",
   "execution_count": 38,
   "id": "5c6e6c57",
   "metadata": {},
   "outputs": [
    {
     "name": "stdout",
     "output_type": "stream",
     "text": [
      "agglomerative\n"
     ]
    },
    {
     "ename": "UFuncTypeError",
     "evalue": "ufunc 'add' did not contain a loop with signature matching types (dtype('float64'), dtype('<U1')) -> None",
     "output_type": "error",
     "traceback": [
      "\u001b[0;31m---------------------------------------------------------------------------\u001b[0m",
      "\u001b[0;31mUFuncTypeError\u001b[0m                            Traceback (most recent call last)",
      "Cell \u001b[0;32mIn[38], line 4\u001b[0m\n\u001b[1;32m      2\u001b[0m score \u001b[38;5;241m=\u001b[39m rand_score(Y, model\u001b[38;5;241m.\u001b[39mlabels_)\n\u001b[1;32m      3\u001b[0m \u001b[38;5;28mprint\u001b[39m(model_name)\n\u001b[0;32m----> 4\u001b[0m \u001b[38;5;28mprint\u001b[39m(\u001b[43mscore\u001b[49m\u001b[43m \u001b[49m\u001b[38;5;241;43m+\u001b[39;49m\u001b[43m \u001b[49m\u001b[38;5;124;43m'\u001b[39;49m\u001b[38;5;130;43;01m\\n\u001b[39;49;00m\u001b[38;5;124;43m'\u001b[39;49m)\n",
      "\u001b[0;31mUFuncTypeError\u001b[0m: ufunc 'add' did not contain a loop with signature matching types (dtype('float64'), dtype('<U1')) -> None"
     ]
    }
   ],
   "source": [
    "for model, model_name in zip(models, model_names):\n",
    "    score = rand_score(Y, model.labels_)\n",
    "    print(model_name)\n",
    "    print(score + '\\n')"
   ]
  },
  {
   "cell_type": "code",
   "execution_count": 39,
   "id": "ae3123f5",
   "metadata": {},
   "outputs": [
    {
     "name": "stdout",
     "output_type": "stream",
     "text": [
      "agglomerative\n",
      "6.177774359967078e-06\n",
      "\n",
      "dbscan\n",
      "0.0001114816666659013\n",
      "\n",
      "dbscan2\n",
      "-5.1811032327229825e-06\n",
      "\n"
     ]
    }
   ],
   "source": [
    "for model, model_name in zip(models, model_names):\n",
    "    score = adjusted_rand_score(Y, model.labels_)\n",
    "    print(model_name)\n",
    "    print(str(score) + '\\n')"
   ]
  },
  {
   "cell_type": "code",
   "execution_count": null,
   "id": "5ad61112",
   "metadata": {},
   "outputs": [],
   "source": []
  }
 ],
 "metadata": {
  "kernelspec": {
   "display_name": "Python 3 (ipykernel)",
   "language": "python",
   "name": "python3"
  },
  "language_info": {
   "codemirror_mode": {
    "name": "ipython",
    "version": 3
   },
   "file_extension": ".py",
   "mimetype": "text/x-python",
   "name": "python",
   "nbconvert_exporter": "python",
   "pygments_lexer": "ipython3",
   "version": "3.10.6"
  }
 },
 "nbformat": 4,
 "nbformat_minor": 5
}
