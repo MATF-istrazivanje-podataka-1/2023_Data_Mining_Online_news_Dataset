{
 "cells": [
  {
   "cell_type": "code",
   "execution_count": 42,
   "id": "943a0cae",
   "metadata": {},
   "outputs": [],
   "source": [
    "import pandas as pd\n",
    "import numpy as np\n",
    "from matplotlib import pyplot as plt\n",
    "from sklearn.metrics import silhouette_score\n",
    "from sklearn.metrics import pair_confusion_matrix\n",
    "from sklearn.metrics import rand_score\n",
    "from sklearn.metrics import adjusted_rand_score"
   ]
  },
  {
   "cell_type": "code",
   "execution_count": 50,
   "id": "64e68350",
   "metadata": {},
   "outputs": [],
   "source": [
    "%store -r data\n",
    "%store -r agglomerative\n",
    "%store -r db\n",
    "%store -r db2\n",
    "%store -r X_sampled\n",
    "%store -r Y_sampled"
   ]
  },
  {
   "cell_type": "code",
   "execution_count": 44,
   "id": "15a7295d",
   "metadata": {},
   "outputs": [],
   "source": [
    "models = [agglomerative, db, db2]\n",
    "model_names = ['agglomerative', 'dbscan', 'dbscan2']"
   ]
  },
  {
   "cell_type": "code",
   "execution_count": 45,
   "id": "fe5c895b",
   "metadata": {},
   "outputs": [],
   "source": [
    "X = X_sampled\n",
    "Y = Y_sampled"
   ]
  },
  {
   "cell_type": "code",
   "execution_count": 51,
   "id": "f1948d8e",
   "metadata": {},
   "outputs": [
    {
     "data": {
      "image/png": "[encoded data removed]",
      "text/plain": [
       "<Figure size 640x480 with 1 Axes>"
      ]
     },
     "metadata": {},
     "output_type": "display_data"
    }
   ],
   "source": [
    "for model, model_name in zip(models, model_names):\n",
    "    score = silhouette_score(X, model.labels_)\n",
    "    score_bar = plt.bar(model_name, score)\n",
    "    height = score_bar[0].get_height()\n",
    "    plt.text(score_bar[0].get_x() + score_bar[0].get_width() / 2.0, height, f'{score:.4f}', ha='center', va='bottom')\n",
    "    plt.title('Silhouette score')"
   ]
  },
  {
   "cell_type": "code",
   "execution_count": 47,
   "id": "cdd0c860",
   "metadata": {},
   "outputs": [
    {
     "name": "stdout",
     "output_type": "stream",
     "text": [
      "agglomerative\n",
      "[[  118808 98211178]\n",
      " [    1120  1658894]]\n",
      "\n",
      "\n",
      "dbscan\n",
      "[[27089646 71240340]\n",
      " [  484986  1175028]]\n",
      "\n",
      "\n",
      "dbscan2\n",
      "[[   19478 98310508]\n",
      " [     520  1659494]]\n",
      "\n",
      "\n"
     ]
    }
   ],
   "source": [
    "for model, model_name in zip(models, model_names):\n",
    "    matrix = pair_confusion_matrix(Y, model.labels_)\n",
    "    print(model_name)\n",
    "    print(matrix)\n",
    "    print('\\n')"
   ]
  },
  {
   "cell_type": "code",
   "execution_count": 48,
   "id": "5c6e6c57",
   "metadata": {},
   "outputs": [
    {
     "name": "stdout",
     "output_type": "stream",
     "text": [
      "agglomerative\n",
      "0.017778797879787978\n",
      "\n",
      "\n",
      "dbscan\n",
      "0.2826750075007501\n",
      "\n",
      "\n",
      "dbscan2\n",
      "0.016791399139913992\n",
      "\n",
      "\n"
     ]
    }
   ],
   "source": [
    "for model, model_name in zip(models, model_names):\n",
    "    score = rand_score(Y, model.labels_)\n",
    "    print(model_name)\n",
    "    print(score)\n",
    "    print('\\n')"
   ]
  },
  {
   "cell_type": "code",
   "execution_count": 49,
   "id": "c6e122bf",
   "metadata": {},
   "outputs": [
    {
     "name": "stdout",
     "output_type": "stream",
     "text": [
      "agglomerative\n",
      "1.7737193004629097e-05\n",
      "\n",
      "dbscan\n",
      "-0.0007589539886211493\n",
      "\n",
      "dbscan2\n",
      "-3.824554026745571e-06\n",
      "\n"
     ]
    }
   ],
   "source": [
    "for model, model_name in zip(models, model_names):\n",
    "    score = adjusted_rand_score(Y, model.labels_)\n",
    "    print(model_name)\n",
    "    print(str(score) + '\\n')"
   ]
  },
  {
   "cell_type": "code",
   "execution_count": null,
   "id": "cdf05a84",
   "metadata": {},
   "outputs": [],
   "source": []
  }
 ],
 "metadata": {
  "kernelspec": {
   "display_name": "Python 3 (ipykernel)",
   "language": "python",
   "name": "python3"
  },
  "language_info": {
   "codemirror_mode": {
    "name": "ipython",
    "version": 3
   },
   "file_extension": ".py",
   "mimetype": "text/x-python",
   "name": "python",
   "nbconvert_exporter": "python",
   "pygments_lexer": "ipython3",
   "version": "3.10.6"
  }
 },
 "nbformat": 4,
 "nbformat_minor": 5
}
