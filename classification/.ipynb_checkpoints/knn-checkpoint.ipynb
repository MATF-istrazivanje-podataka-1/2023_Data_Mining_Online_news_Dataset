{
 "cells": [
  {
   "cell_type": "code",
   "execution_count": 1,
   "id": "a610169e",
   "metadata": {},
   "outputs": [],
   "source": [
    "import pandas as pd\n",
    "from sklearn.preprocessing import MinMaxScaler\n",
    "from sklearn.neighbors import KNeighborsClassifier\n",
    "from sklearn.metrics import classification_report\n",
    "from termcolor import colored\n",
    "from sklearn.metrics import confusion_matrix\n",
    "from sklearn.model_selection import GridSearchCV\n",
    "from sklearn.metrics import roc_curve, roc_auc_score\n",
    "from matplotlib import pyplot as plt"
   ]
  },
  {
   "cell_type": "code",
   "execution_count": 2,
   "id": "4463efc3",
   "metadata": {},
   "outputs": [],
   "source": [
    "%store -r X\n",
    "%store -r Y\n",
    "%store -r X_train\n",
    "%store -r Y_train\n",
    "%store -r X_test\n",
    "%store -r Y_test\n",
    "%store -r X_train_iqr\n",
    "%store -r X_test_iqr"
   ]
  },
  {
   "cell_type": "code",
   "execution_count": 3,
   "id": "7ca29fd4",
   "metadata": {},
   "outputs": [],
   "source": [
    "def report(model, X, Y, text = \"training\"):\n",
    "    Y_pred = model.predict(X)\n",
    "    \n",
    "    print(\"Classification report for model {} on {} data\".format(type(model).__name__, text))\n",
    "    print(\"---------------------------------------------------------------------------------\")\n",
    "    print(classification_report(Y, Y_pred))\n",
    "    print(\"---------------------------------------------------------------------------------\")\n",
    "    print(f'Confusion matrix for {text} set:')\n",
    "    print(pd.DataFrame(confusion_matrix(Y, Y_pred), columns=['N', 'P'], index=['N', 'P']))"
   ]
  },
  {
   "cell_type": "code",
   "execution_count": 4,
   "id": "c3534d1c",
   "metadata": {},
   "outputs": [],
   "source": [
    "scaler = MinMaxScaler()\n",
    "scaler.fit(X_train)\n",
    "X_train = scaler.transform(X_train)\n",
    "X_test = scaler.transform(X_test)\n",
    "X_train_iqr = scaler.transform(X_train_iqr)\n",
    "X_test_iqr = scaler.transform(X_test_iqr)"
   ]
  },
  {
   "cell_type": "code",
   "execution_count": 5,
   "id": "33b1763b",
   "metadata": {},
   "outputs": [
    {
     "data": {
      "text/html": [
       "<style>#sk-container-id-1 {color: black;background-color: white;}#sk-container-id-1 pre{padding: 0;}#sk-container-id-1 div.sk-toggleable {background-color: white;}#sk-container-id-1 label.sk-toggleable__label {cursor: pointer;display: block;width: 100%;margin-bottom: 0;padding: 0.3em;box-sizing: border-box;text-align: center;}#sk-container-id-1 label.sk-toggleable__label-arrow:before {content: \"▸\";float: left;margin-right: 0.25em;color: #696969;}#sk-container-id-1 label.sk-toggleable__label-arrow:hover:before {color: black;}#sk-container-id-1 div.sk-estimator:hover label.sk-toggleable__label-arrow:before {color: black;}#sk-container-id-1 div.sk-toggleable__content {max-height: 0;max-width: 0;overflow: hidden;text-align: left;background-color: #f0f8ff;}#sk-container-id-1 div.sk-toggleable__content pre {margin: 0.2em;color: black;border-radius: 0.25em;background-color: #f0f8ff;}#sk-container-id-1 input.sk-toggleable__control:checked~div.sk-toggleable__content {max-height: 200px;max-width: 100%;overflow: auto;}#sk-container-id-1 input.sk-toggleable__control:checked~label.sk-toggleable__label-arrow:before {content: \"▾\";}#sk-container-id-1 div.sk-estimator input.sk-toggleable__control:checked~label.sk-toggleable__label {background-color: #d4ebff;}#sk-container-id-1 div.sk-label input.sk-toggleable__control:checked~label.sk-toggleable__label {background-color: #d4ebff;}#sk-container-id-1 input.sk-hidden--visually {border: 0;clip: rect(1px 1px 1px 1px);clip: rect(1px, 1px, 1px, 1px);height: 1px;margin: -1px;overflow: hidden;padding: 0;position: absolute;width: 1px;}#sk-container-id-1 div.sk-estimator {font-family: monospace;background-color: #f0f8ff;border: 1px dotted black;border-radius: 0.25em;box-sizing: border-box;margin-bottom: 0.5em;}#sk-container-id-1 div.sk-estimator:hover {background-color: #d4ebff;}#sk-container-id-1 div.sk-parallel-item::after {content: \"\";width: 100%;border-bottom: 1px solid gray;flex-grow: 1;}#sk-container-id-1 div.sk-label:hover label.sk-toggleable__label {background-color: #d4ebff;}#sk-container-id-1 div.sk-serial::before {content: \"\";position: absolute;border-left: 1px solid gray;box-sizing: border-box;top: 0;bottom: 0;left: 50%;z-index: 0;}#sk-container-id-1 div.sk-serial {display: flex;flex-direction: column;align-items: center;background-color: white;padding-right: 0.2em;padding-left: 0.2em;position: relative;}#sk-container-id-1 div.sk-item {position: relative;z-index: 1;}#sk-container-id-1 div.sk-parallel {display: flex;align-items: stretch;justify-content: center;background-color: white;position: relative;}#sk-container-id-1 div.sk-item::before, #sk-container-id-1 div.sk-parallel-item::before {content: \"\";position: absolute;border-left: 1px solid gray;box-sizing: border-box;top: 0;bottom: 0;left: 50%;z-index: -1;}#sk-container-id-1 div.sk-parallel-item {display: flex;flex-direction: column;z-index: 1;position: relative;background-color: white;}#sk-container-id-1 div.sk-parallel-item:first-child::after {align-self: flex-end;width: 50%;}#sk-container-id-1 div.sk-parallel-item:last-child::after {align-self: flex-start;width: 50%;}#sk-container-id-1 div.sk-parallel-item:only-child::after {width: 0;}#sk-container-id-1 div.sk-dashed-wrapped {border: 1px dashed gray;margin: 0 0.4em 0.5em 0.4em;box-sizing: border-box;padding-bottom: 0.4em;background-color: white;}#sk-container-id-1 div.sk-label label {font-family: monospace;font-weight: bold;display: inline-block;line-height: 1.2em;}#sk-container-id-1 div.sk-label-container {text-align: center;}#sk-container-id-1 div.sk-container {/* jupyter's `normalize.less` sets `[hidden] { display: none; }` but bootstrap.min.css set `[hidden] { display: none !important; }` so we also need the `!important` here to be able to override the default hidden behavior on the sphinx rendered scikit-learn.org. See: https://github.com/scikit-learn/scikit-learn/issues/21755 */display: inline-block !important;position: relative;}#sk-container-id-1 div.sk-text-repr-fallback {display: none;}</style><div id=\"sk-container-id-1\" class=\"sk-top-container\"><div class=\"sk-text-repr-fallback\"><pre>KNeighborsClassifier()</pre><b>In a Jupyter environment, please rerun this cell to show the HTML representation or trust the notebook. <br />On GitHub, the HTML representation is unable to render, please try loading this page with nbviewer.org.</b></div><div class=\"sk-container\" hidden><div class=\"sk-item\"><div class=\"sk-estimator sk-toggleable\"><input class=\"sk-toggleable__control sk-hidden--visually\" id=\"sk-estimator-id-1\" type=\"checkbox\" checked><label for=\"sk-estimator-id-1\" class=\"sk-toggleable__label sk-toggleable__label-arrow\">KNeighborsClassifier</label><div class=\"sk-toggleable__content\"><pre>KNeighborsClassifier()</pre></div></div></div></div></div>"
      ],
      "text/plain": [
       "KNeighborsClassifier()"
      ]
     },
     "execution_count": 5,
     "metadata": {},
     "output_type": "execute_result"
    }
   ],
   "source": [
    "knn = KNeighborsClassifier()\n",
    "knn.fit(X_train, Y_train)"
   ]
  },
  {
   "cell_type": "code",
   "execution_count": 6,
   "id": "5d521554",
   "metadata": {
    "scrolled": true
   },
   "outputs": [
    {
     "name": "stdout",
     "output_type": "stream",
     "text": [
      "Classification report for model KNeighborsClassifier on training data\n",
      "---------------------------------------------------------------------------------\n",
      "              precision    recall  f1-score   support\n",
      "\n",
      "           0       0.73      0.76      0.75     15005\n",
      "           1       0.75      0.72      0.73     14728\n",
      "\n",
      "    accuracy                           0.74     29733\n",
      "   macro avg       0.74      0.74      0.74     29733\n",
      "weighted avg       0.74      0.74      0.74     29733\n",
      "\n",
      "---------------------------------------------------------------------------------\n",
      "Confusion matrix for training set:\n",
      "       N      P\n",
      "N  11443   3562\n",
      "P   4184  10544\n"
     ]
    }
   ],
   "source": [
    "report(knn, X_train, Y_train)"
   ]
  },
  {
   "cell_type": "code",
   "execution_count": 7,
   "id": "96d9fadc",
   "metadata": {},
   "outputs": [
    {
     "name": "stdout",
     "output_type": "stream",
     "text": [
      "Classification report for model KNeighborsClassifier on test data\n",
      "---------------------------------------------------------------------------------\n",
      "              precision    recall  f1-score   support\n",
      "\n",
      "           0       0.61      0.63      0.62      5077\n",
      "           1       0.60      0.57      0.58      4834\n",
      "\n",
      "    accuracy                           0.60      9911\n",
      "   macro avg       0.60      0.60      0.60      9911\n",
      "weighted avg       0.60      0.60      0.60      9911\n",
      "\n",
      "---------------------------------------------------------------------------------\n",
      "Confusion matrix for test set:\n",
      "      N     P\n",
      "N  3194  1883\n",
      "P  2059  2775\n"
     ]
    }
   ],
   "source": [
    "report(knn, X_test, Y_test, \"test\")"
   ]
  },
  {
   "cell_type": "code",
   "execution_count": 8,
   "id": "e85f5d5d",
   "metadata": {},
   "outputs": [],
   "source": [
    "params = {'n_neighbors': range(10, 30, 2),\n",
    "               'weights': ['uniform', 'distance'],\n",
    "                'p': [1, 2]}"
   ]
  },
  {
   "cell_type": "code",
   "execution_count": 9,
   "id": "a5dce0b0",
   "metadata": {},
   "outputs": [],
   "source": [
    "estimator = GridSearchCV(KNeighborsClassifier(), params, cv = 4, verbose = 4)"
   ]
  },
  {
   "cell_type": "code",
   "execution_count": 10,
   "id": "e342b136",
   "metadata": {},
   "outputs": [
    {
     "name": "stdout",
     "output_type": "stream",
     "text": [
      "Fitting 4 folds for each of 40 candidates, totalling 160 fits\n",
      "[CV 1/4] END n_neighbors=10, p=1, weights=uniform;, score=0.610 total time=   3.3s\n",
      "[CV 2/4] END n_neighbors=10, p=1, weights=uniform;, score=0.602 total time=   3.3s\n",
      "[CV 3/4] END n_neighbors=10, p=1, weights=uniform;, score=0.614 total time=   3.2s\n",
      "[CV 4/4] END n_neighbors=10, p=1, weights=uniform;, score=0.616 total time=   3.2s\n",
      "[CV 1/4] END n_neighbors=10, p=1, weights=distance;, score=0.613 total time=   3.4s\n",
      "[CV 2/4] END n_neighbors=10, p=1, weights=distance;, score=0.612 total time=   3.3s\n",
      "[CV 3/4] END n_neighbors=10, p=1, weights=distance;, score=0.617 total time=   3.1s\n",
      "[CV 4/4] END n_neighbors=10, p=1, weights=distance;, score=0.616 total time=   3.3s\n",
      "[CV 1/4] END n_neighbors=10, p=2, weights=uniform;, score=0.608 total time=   0.7s\n",
      "[CV 2/4] END n_neighbors=10, p=2, weights=uniform;, score=0.605 total time=   0.7s\n",
      "[CV 3/4] END n_neighbors=10, p=2, weights=uniform;, score=0.613 total time=   0.6s\n",
      "[CV 4/4] END n_neighbors=10, p=2, weights=uniform;, score=0.607 total time=   0.6s\n",
      "[CV 1/4] END n_neighbors=10, p=2, weights=distance;, score=0.612 total time=   0.4s\n",
      "[CV 2/4] END n_neighbors=10, p=2, weights=distance;, score=0.606 total time=   0.5s\n",
      "[CV 3/4] END n_neighbors=10, p=2, weights=distance;, score=0.615 total time=   0.5s\n",
      "[CV 4/4] END n_neighbors=10, p=2, weights=distance;, score=0.611 total time=   0.5s\n",
      "[CV 1/4] END n_neighbors=12, p=1, weights=uniform;, score=0.613 total time=   3.5s\n",
      "[CV 2/4] END n_neighbors=12, p=1, weights=uniform;, score=0.608 total time=   3.5s\n",
      "[CV 3/4] END n_neighbors=12, p=1, weights=uniform;, score=0.623 total time=   3.4s\n",
      "[CV 4/4] END n_neighbors=12, p=1, weights=uniform;, score=0.614 total time=   3.3s\n",
      "[CV 1/4] END n_neighbors=12, p=1, weights=distance;, score=0.619 total time=   3.8s\n",
      "[CV 2/4] END n_neighbors=12, p=1, weights=distance;, score=0.610 total time=   3.7s\n",
      "[CV 3/4] END n_neighbors=12, p=1, weights=distance;, score=0.622 total time=   3.9s\n",
      "[CV 4/4] END n_neighbors=12, p=1, weights=distance;, score=0.615 total time=   4.3s\n",
      "[CV 1/4] END n_neighbors=12, p=2, weights=uniform;, score=0.604 total time=   0.7s\n",
      "[CV 2/4] END n_neighbors=12, p=2, weights=uniform;, score=0.609 total time=   0.6s\n",
      "[CV 3/4] END n_neighbors=12, p=2, weights=uniform;, score=0.615 total time=   0.6s\n",
      "[CV 4/4] END n_neighbors=12, p=2, weights=uniform;, score=0.613 total time=   0.5s\n",
      "[CV 1/4] END n_neighbors=12, p=2, weights=distance;, score=0.612 total time=   0.5s\n",
      "[CV 2/4] END n_neighbors=12, p=2, weights=distance;, score=0.611 total time=   0.5s\n",
      "[CV 3/4] END n_neighbors=12, p=2, weights=distance;, score=0.621 total time=   0.5s\n",
      "[CV 4/4] END n_neighbors=12, p=2, weights=distance;, score=0.615 total time=   0.5s\n",
      "[CV 1/4] END n_neighbors=14, p=1, weights=uniform;, score=0.618 total time=   3.7s\n",
      "[CV 2/4] END n_neighbors=14, p=1, weights=uniform;, score=0.612 total time=   3.7s\n",
      "[CV 3/4] END n_neighbors=14, p=1, weights=uniform;, score=0.621 total time=   3.9s\n",
      "[CV 4/4] END n_neighbors=14, p=1, weights=uniform;, score=0.620 total time=   3.7s\n",
      "[CV 1/4] END n_neighbors=14, p=1, weights=distance;, score=0.620 total time=   3.7s\n",
      "[CV 2/4] END n_neighbors=14, p=1, weights=distance;, score=0.613 total time=   3.7s\n",
      "[CV 3/4] END n_neighbors=14, p=1, weights=distance;, score=0.625 total time=   3.8s\n",
      "[CV 4/4] END n_neighbors=14, p=1, weights=distance;, score=0.620 total time=   3.6s\n",
      "[CV 1/4] END n_neighbors=14, p=2, weights=uniform;, score=0.613 total time=   0.7s\n",
      "[CV 2/4] END n_neighbors=14, p=2, weights=uniform;, score=0.610 total time=   0.7s\n",
      "[CV 3/4] END n_neighbors=14, p=2, weights=uniform;, score=0.616 total time=   0.7s\n",
      "[CV 4/4] END n_neighbors=14, p=2, weights=uniform;, score=0.615 total time=   0.8s\n",
      "[CV 1/4] END n_neighbors=14, p=2, weights=distance;, score=0.616 total time=   0.5s\n",
      "[CV 2/4] END n_neighbors=14, p=2, weights=distance;, score=0.611 total time=   0.5s\n",
      "[CV 3/4] END n_neighbors=14, p=2, weights=distance;, score=0.619 total time=   0.5s\n",
      "[CV 4/4] END n_neighbors=14, p=2, weights=distance;, score=0.616 total time=   0.5s\n",
      "[CV 1/4] END n_neighbors=16, p=1, weights=uniform;, score=0.622 total time=   3.7s\n",
      "[CV 2/4] END n_neighbors=16, p=1, weights=uniform;, score=0.613 total time=   4.0s\n",
      "[CV 3/4] END n_neighbors=16, p=1, weights=uniform;, score=0.621 total time=   3.9s\n",
      "[CV 4/4] END n_neighbors=16, p=1, weights=uniform;, score=0.622 total time=   3.9s\n",
      "[CV 1/4] END n_neighbors=16, p=1, weights=distance;, score=0.626 total time=   3.7s\n",
      "[CV 2/4] END n_neighbors=16, p=1, weights=distance;, score=0.615 total time=   3.7s\n",
      "[CV 3/4] END n_neighbors=16, p=1, weights=distance;, score=0.627 total time=   3.6s\n",
      "[CV 4/4] END n_neighbors=16, p=1, weights=distance;, score=0.622 total time=   3.8s\n",
      "[CV 1/4] END n_neighbors=16, p=2, weights=uniform;, score=0.613 total time=   0.8s\n",
      "[CV 2/4] END n_neighbors=16, p=2, weights=uniform;, score=0.610 total time=   0.7s\n",
      "[CV 3/4] END n_neighbors=16, p=2, weights=uniform;, score=0.617 total time=   0.7s\n",
      "[CV 4/4] END n_neighbors=16, p=2, weights=uniform;, score=0.617 total time=   0.7s\n",
      "[CV 1/4] END n_neighbors=16, p=2, weights=distance;, score=0.621 total time=   0.5s\n",
      "[CV 2/4] END n_neighbors=16, p=2, weights=distance;, score=0.610 total time=   0.5s\n",
      "[CV 3/4] END n_neighbors=16, p=2, weights=distance;, score=0.620 total time=   0.5s\n",
      "[CV 4/4] END n_neighbors=16, p=2, weights=distance;, score=0.622 total time=   0.5s\n",
      "[CV 1/4] END n_neighbors=18, p=1, weights=uniform;, score=0.625 total time=   3.6s\n",
      "[CV 2/4] END n_neighbors=18, p=1, weights=uniform;, score=0.622 total time=   3.9s\n",
      "[CV 3/4] END n_neighbors=18, p=1, weights=uniform;, score=0.624 total time=   3.8s\n",
      "[CV 4/4] END n_neighbors=18, p=1, weights=uniform;, score=0.622 total time=   3.8s\n",
      "[CV 1/4] END n_neighbors=18, p=1, weights=distance;, score=0.627 total time=   3.7s\n",
      "[CV 2/4] END n_neighbors=18, p=1, weights=distance;, score=0.622 total time=   3.7s\n",
      "[CV 3/4] END n_neighbors=18, p=1, weights=distance;, score=0.628 total time=   3.6s\n",
      "[CV 4/4] END n_neighbors=18, p=1, weights=distance;, score=0.625 total time=   3.7s\n",
      "[CV 1/4] END n_neighbors=18, p=2, weights=uniform;, score=0.616 total time=   0.7s\n",
      "[CV 2/4] END n_neighbors=18, p=2, weights=uniform;, score=0.612 total time=   0.6s\n",
      "[CV 3/4] END n_neighbors=18, p=2, weights=uniform;, score=0.616 total time=   0.7s\n",
      "[CV 4/4] END n_neighbors=18, p=2, weights=uniform;, score=0.619 total time=   0.8s\n",
      "[CV 1/4] END n_neighbors=18, p=2, weights=distance;, score=0.623 total time=   0.6s\n",
      "[CV 2/4] END n_neighbors=18, p=2, weights=distance;, score=0.615 total time=   0.5s\n",
      "[CV 3/4] END n_neighbors=18, p=2, weights=distance;, score=0.621 total time=   0.5s\n",
      "[CV 4/4] END n_neighbors=18, p=2, weights=distance;, score=0.622 total time=   0.5s\n",
      "[CV 1/4] END n_neighbors=20, p=1, weights=uniform;, score=0.627 total time=   3.8s\n",
      "[CV 2/4] END n_neighbors=20, p=1, weights=uniform;, score=0.624 total time=   4.0s\n",
      "[CV 3/4] END n_neighbors=20, p=1, weights=uniform;, score=0.626 total time=   4.0s\n",
      "[CV 4/4] END n_neighbors=20, p=1, weights=uniform;, score=0.625 total time=   3.8s\n",
      "[CV 1/4] END n_neighbors=20, p=1, weights=distance;, score=0.629 total time=   3.2s\n",
      "[CV 2/4] END n_neighbors=20, p=1, weights=distance;, score=0.622 total time=   3.4s\n",
      "[CV 3/4] END n_neighbors=20, p=1, weights=distance;, score=0.628 total time=   3.4s\n",
      "[CV 4/4] END n_neighbors=20, p=1, weights=distance;, score=0.628 total time=   3.5s\n",
      "[CV 1/4] END n_neighbors=20, p=2, weights=uniform;, score=0.618 total time=   0.6s\n",
      "[CV 2/4] END n_neighbors=20, p=2, weights=uniform;, score=0.614 total time=   0.6s\n",
      "[CV 3/4] END n_neighbors=20, p=2, weights=uniform;, score=0.621 total time=   0.6s\n",
      "[CV 4/4] END n_neighbors=20, p=2, weights=uniform;, score=0.617 total time=   0.6s\n",
      "[CV 1/4] END n_neighbors=20, p=2, weights=distance;, score=0.625 total time=   0.4s\n",
      "[CV 2/4] END n_neighbors=20, p=2, weights=distance;, score=0.621 total time=   0.4s\n",
      "[CV 3/4] END n_neighbors=20, p=2, weights=distance;, score=0.626 total time=   0.4s\n",
      "[CV 4/4] END n_neighbors=20, p=2, weights=distance;, score=0.620 total time=   0.4s\n",
      "[CV 1/4] END n_neighbors=22, p=1, weights=uniform;, score=0.623 total time=   3.3s\n",
      "[CV 2/4] END n_neighbors=22, p=1, weights=uniform;, score=0.626 total time=   3.5s\n"
     ]
    },
    {
     "name": "stdout",
     "output_type": "stream",
     "text": [
      "[CV 3/4] END n_neighbors=22, p=1, weights=uniform;, score=0.622 total time=   3.4s\n",
      "[CV 4/4] END n_neighbors=22, p=1, weights=uniform;, score=0.627 total time=   3.3s\n",
      "[CV 1/4] END n_neighbors=22, p=1, weights=distance;, score=0.626 total time=   3.3s\n",
      "[CV 2/4] END n_neighbors=22, p=1, weights=distance;, score=0.626 total time=   3.7s\n",
      "[CV 3/4] END n_neighbors=22, p=1, weights=distance;, score=0.628 total time=   3.2s\n",
      "[CV 4/4] END n_neighbors=22, p=1, weights=distance;, score=0.631 total time=   3.3s\n",
      "[CV 1/4] END n_neighbors=22, p=2, weights=uniform;, score=0.614 total time=   0.6s\n",
      "[CV 2/4] END n_neighbors=22, p=2, weights=uniform;, score=0.620 total time=   0.9s\n",
      "[CV 3/4] END n_neighbors=22, p=2, weights=uniform;, score=0.623 total time=   0.8s\n",
      "[CV 4/4] END n_neighbors=22, p=2, weights=uniform;, score=0.616 total time=   0.8s\n",
      "[CV 1/4] END n_neighbors=22, p=2, weights=distance;, score=0.621 total time=   0.5s\n",
      "[CV 2/4] END n_neighbors=22, p=2, weights=distance;, score=0.623 total time=   0.6s\n",
      "[CV 3/4] END n_neighbors=22, p=2, weights=distance;, score=0.627 total time=   0.4s\n",
      "[CV 4/4] END n_neighbors=22, p=2, weights=distance;, score=0.620 total time=   0.6s\n",
      "[CV 1/4] END n_neighbors=24, p=1, weights=uniform;, score=0.625 total time=   3.6s\n",
      "[CV 2/4] END n_neighbors=24, p=1, weights=uniform;, score=0.626 total time=   3.5s\n",
      "[CV 3/4] END n_neighbors=24, p=1, weights=uniform;, score=0.627 total time=   3.5s\n",
      "[CV 4/4] END n_neighbors=24, p=1, weights=uniform;, score=0.627 total time=   3.4s\n",
      "[CV 1/4] END n_neighbors=24, p=1, weights=distance;, score=0.627 total time=   3.3s\n",
      "[CV 2/4] END n_neighbors=24, p=1, weights=distance;, score=0.629 total time=   3.3s\n",
      "[CV 3/4] END n_neighbors=24, p=1, weights=distance;, score=0.629 total time=   3.3s\n",
      "[CV 4/4] END n_neighbors=24, p=1, weights=distance;, score=0.630 total time=   3.3s\n",
      "[CV 1/4] END n_neighbors=24, p=2, weights=uniform;, score=0.617 total time=   0.6s\n",
      "[CV 2/4] END n_neighbors=24, p=2, weights=uniform;, score=0.621 total time=   0.6s\n",
      "[CV 3/4] END n_neighbors=24, p=2, weights=uniform;, score=0.623 total time=   0.6s\n",
      "[CV 4/4] END n_neighbors=24, p=2, weights=uniform;, score=0.617 total time=   0.6s\n",
      "[CV 1/4] END n_neighbors=24, p=2, weights=distance;, score=0.622 total time=   0.4s\n",
      "[CV 2/4] END n_neighbors=24, p=2, weights=distance;, score=0.624 total time=   0.4s\n",
      "[CV 3/4] END n_neighbors=24, p=2, weights=distance;, score=0.627 total time=   0.4s\n",
      "[CV 4/4] END n_neighbors=24, p=2, weights=distance;, score=0.620 total time=   0.4s\n",
      "[CV 1/4] END n_neighbors=26, p=1, weights=uniform;, score=0.624 total time=   3.5s\n",
      "[CV 2/4] END n_neighbors=26, p=1, weights=uniform;, score=0.629 total time=   3.5s\n",
      "[CV 3/4] END n_neighbors=26, p=1, weights=uniform;, score=0.629 total time=   3.5s\n",
      "[CV 4/4] END n_neighbors=26, p=1, weights=uniform;, score=0.628 total time=   3.4s\n",
      "[CV 1/4] END n_neighbors=26, p=1, weights=distance;, score=0.627 total time=   3.3s\n",
      "[CV 2/4] END n_neighbors=26, p=1, weights=distance;, score=0.631 total time=   3.3s\n",
      "[CV 3/4] END n_neighbors=26, p=1, weights=distance;, score=0.631 total time=   3.7s\n",
      "[CV 4/4] END n_neighbors=26, p=1, weights=distance;, score=0.631 total time=   3.4s\n",
      "[CV 1/4] END n_neighbors=26, p=2, weights=uniform;, score=0.619 total time=   0.6s\n",
      "[CV 2/4] END n_neighbors=26, p=2, weights=uniform;, score=0.620 total time=   0.6s\n",
      "[CV 3/4] END n_neighbors=26, p=2, weights=uniform;, score=0.623 total time=   0.6s\n",
      "[CV 4/4] END n_neighbors=26, p=2, weights=uniform;, score=0.620 total time=   0.6s\n",
      "[CV 1/4] END n_neighbors=26, p=2, weights=distance;, score=0.624 total time=   0.4s\n",
      "[CV 2/4] END n_neighbors=26, p=2, weights=distance;, score=0.623 total time=   0.4s\n",
      "[CV 3/4] END n_neighbors=26, p=2, weights=distance;, score=0.626 total time=   0.4s\n",
      "[CV 4/4] END n_neighbors=26, p=2, weights=distance;, score=0.623 total time=   0.4s\n",
      "[CV 1/4] END n_neighbors=28, p=1, weights=uniform;, score=0.626 total time=   3.5s\n",
      "[CV 2/4] END n_neighbors=28, p=1, weights=uniform;, score=0.630 total time=   3.4s\n",
      "[CV 3/4] END n_neighbors=28, p=1, weights=uniform;, score=0.629 total time=   3.5s\n",
      "[CV 4/4] END n_neighbors=28, p=1, weights=uniform;, score=0.627 total time=   3.4s\n",
      "[CV 1/4] END n_neighbors=28, p=1, weights=distance;, score=0.629 total time=   3.3s\n",
      "[CV 2/4] END n_neighbors=28, p=1, weights=distance;, score=0.634 total time=   3.3s\n",
      "[CV 3/4] END n_neighbors=28, p=1, weights=distance;, score=0.629 total time=   3.3s\n",
      "[CV 4/4] END n_neighbors=28, p=1, weights=distance;, score=0.632 total time=   3.3s\n",
      "[CV 1/4] END n_neighbors=28, p=2, weights=uniform;, score=0.617 total time=   0.6s\n",
      "[CV 2/4] END n_neighbors=28, p=2, weights=uniform;, score=0.622 total time=   0.6s\n",
      "[CV 3/4] END n_neighbors=28, p=2, weights=uniform;, score=0.622 total time=   0.6s\n",
      "[CV 4/4] END n_neighbors=28, p=2, weights=uniform;, score=0.620 total time=   0.7s\n",
      "[CV 1/4] END n_neighbors=28, p=2, weights=distance;, score=0.622 total time=   0.4s\n",
      "[CV 2/4] END n_neighbors=28, p=2, weights=distance;, score=0.623 total time=   0.4s\n",
      "[CV 3/4] END n_neighbors=28, p=2, weights=distance;, score=0.626 total time=   0.4s\n",
      "[CV 4/4] END n_neighbors=28, p=2, weights=distance;, score=0.623 total time=   0.4s\n"
     ]
    },
    {
     "data": {
      "text/html": [
       "<style>#sk-container-id-2 {color: black;background-color: white;}#sk-container-id-2 pre{padding: 0;}#sk-container-id-2 div.sk-toggleable {background-color: white;}#sk-container-id-2 label.sk-toggleable__label {cursor: pointer;display: block;width: 100%;margin-bottom: 0;padding: 0.3em;box-sizing: border-box;text-align: center;}#sk-container-id-2 label.sk-toggleable__label-arrow:before {content: \"▸\";float: left;margin-right: 0.25em;color: #696969;}#sk-container-id-2 label.sk-toggleable__label-arrow:hover:before {color: black;}#sk-container-id-2 div.sk-estimator:hover label.sk-toggleable__label-arrow:before {color: black;}#sk-container-id-2 div.sk-toggleable__content {max-height: 0;max-width: 0;overflow: hidden;text-align: left;background-color: #f0f8ff;}#sk-container-id-2 div.sk-toggleable__content pre {margin: 0.2em;color: black;border-radius: 0.25em;background-color: #f0f8ff;}#sk-container-id-2 input.sk-toggleable__control:checked~div.sk-toggleable__content {max-height: 200px;max-width: 100%;overflow: auto;}#sk-container-id-2 input.sk-toggleable__control:checked~label.sk-toggleable__label-arrow:before {content: \"▾\";}#sk-container-id-2 div.sk-estimator input.sk-toggleable__control:checked~label.sk-toggleable__label {background-color: #d4ebff;}#sk-container-id-2 div.sk-label input.sk-toggleable__control:checked~label.sk-toggleable__label {background-color: #d4ebff;}#sk-container-id-2 input.sk-hidden--visually {border: 0;clip: rect(1px 1px 1px 1px);clip: rect(1px, 1px, 1px, 1px);height: 1px;margin: -1px;overflow: hidden;padding: 0;position: absolute;width: 1px;}#sk-container-id-2 div.sk-estimator {font-family: monospace;background-color: #f0f8ff;border: 1px dotted black;border-radius: 0.25em;box-sizing: border-box;margin-bottom: 0.5em;}#sk-container-id-2 div.sk-estimator:hover {background-color: #d4ebff;}#sk-container-id-2 div.sk-parallel-item::after {content: \"\";width: 100%;border-bottom: 1px solid gray;flex-grow: 1;}#sk-container-id-2 div.sk-label:hover label.sk-toggleable__label {background-color: #d4ebff;}#sk-container-id-2 div.sk-serial::before {content: \"\";position: absolute;border-left: 1px solid gray;box-sizing: border-box;top: 0;bottom: 0;left: 50%;z-index: 0;}#sk-container-id-2 div.sk-serial {display: flex;flex-direction: column;align-items: center;background-color: white;padding-right: 0.2em;padding-left: 0.2em;position: relative;}#sk-container-id-2 div.sk-item {position: relative;z-index: 1;}#sk-container-id-2 div.sk-parallel {display: flex;align-items: stretch;justify-content: center;background-color: white;position: relative;}#sk-container-id-2 div.sk-item::before, #sk-container-id-2 div.sk-parallel-item::before {content: \"\";position: absolute;border-left: 1px solid gray;box-sizing: border-box;top: 0;bottom: 0;left: 50%;z-index: -1;}#sk-container-id-2 div.sk-parallel-item {display: flex;flex-direction: column;z-index: 1;position: relative;background-color: white;}#sk-container-id-2 div.sk-parallel-item:first-child::after {align-self: flex-end;width: 50%;}#sk-container-id-2 div.sk-parallel-item:last-child::after {align-self: flex-start;width: 50%;}#sk-container-id-2 div.sk-parallel-item:only-child::after {width: 0;}#sk-container-id-2 div.sk-dashed-wrapped {border: 1px dashed gray;margin: 0 0.4em 0.5em 0.4em;box-sizing: border-box;padding-bottom: 0.4em;background-color: white;}#sk-container-id-2 div.sk-label label {font-family: monospace;font-weight: bold;display: inline-block;line-height: 1.2em;}#sk-container-id-2 div.sk-label-container {text-align: center;}#sk-container-id-2 div.sk-container {/* jupyter's `normalize.less` sets `[hidden] { display: none; }` but bootstrap.min.css set `[hidden] { display: none !important; }` so we also need the `!important` here to be able to override the default hidden behavior on the sphinx rendered scikit-learn.org. See: https://github.com/scikit-learn/scikit-learn/issues/21755 */display: inline-block !important;position: relative;}#sk-container-id-2 div.sk-text-repr-fallback {display: none;}</style><div id=\"sk-container-id-2\" class=\"sk-top-container\"><div class=\"sk-text-repr-fallback\"><pre>GridSearchCV(cv=4, estimator=KNeighborsClassifier(),\n",
       "             param_grid={&#x27;n_neighbors&#x27;: range(10, 30, 2), &#x27;p&#x27;: [1, 2],\n",
       "                         &#x27;weights&#x27;: [&#x27;uniform&#x27;, &#x27;distance&#x27;]},\n",
       "             verbose=4)</pre><b>In a Jupyter environment, please rerun this cell to show the HTML representation or trust the notebook. <br />On GitHub, the HTML representation is unable to render, please try loading this page with nbviewer.org.</b></div><div class=\"sk-container\" hidden><div class=\"sk-item sk-dashed-wrapped\"><div class=\"sk-label-container\"><div class=\"sk-label sk-toggleable\"><input class=\"sk-toggleable__control sk-hidden--visually\" id=\"sk-estimator-id-2\" type=\"checkbox\" ><label for=\"sk-estimator-id-2\" class=\"sk-toggleable__label sk-toggleable__label-arrow\">GridSearchCV</label><div class=\"sk-toggleable__content\"><pre>GridSearchCV(cv=4, estimator=KNeighborsClassifier(),\n",
       "             param_grid={&#x27;n_neighbors&#x27;: range(10, 30, 2), &#x27;p&#x27;: [1, 2],\n",
       "                         &#x27;weights&#x27;: [&#x27;uniform&#x27;, &#x27;distance&#x27;]},\n",
       "             verbose=4)</pre></div></div></div><div class=\"sk-parallel\"><div class=\"sk-parallel-item\"><div class=\"sk-item\"><div class=\"sk-label-container\"><div class=\"sk-label sk-toggleable\"><input class=\"sk-toggleable__control sk-hidden--visually\" id=\"sk-estimator-id-3\" type=\"checkbox\" ><label for=\"sk-estimator-id-3\" class=\"sk-toggleable__label sk-toggleable__label-arrow\">estimator: KNeighborsClassifier</label><div class=\"sk-toggleable__content\"><pre>KNeighborsClassifier()</pre></div></div></div><div class=\"sk-serial\"><div class=\"sk-item\"><div class=\"sk-estimator sk-toggleable\"><input class=\"sk-toggleable__control sk-hidden--visually\" id=\"sk-estimator-id-4\" type=\"checkbox\" ><label for=\"sk-estimator-id-4\" class=\"sk-toggleable__label sk-toggleable__label-arrow\">KNeighborsClassifier</label><div class=\"sk-toggleable__content\"><pre>KNeighborsClassifier()</pre></div></div></div></div></div></div></div></div></div></div>"
      ],
      "text/plain": [
       "GridSearchCV(cv=4, estimator=KNeighborsClassifier(),\n",
       "             param_grid={'n_neighbors': range(10, 30, 2), 'p': [1, 2],\n",
       "                         'weights': ['uniform', 'distance']},\n",
       "             verbose=4)"
      ]
     },
     "execution_count": 10,
     "metadata": {},
     "output_type": "execute_result"
    }
   ],
   "source": [
    "estimator.fit(X_train, Y_train)"
   ]
  },
  {
   "cell_type": "code",
   "execution_count": 11,
   "id": "6795ea4c",
   "metadata": {},
   "outputs": [
    {
     "data": {
      "text/plain": [
       "{'n_neighbors': 28, 'p': 1, 'weights': 'distance'}"
      ]
     },
     "execution_count": 11,
     "metadata": {},
     "output_type": "execute_result"
    }
   ],
   "source": [
    "estimator.best_params_"
   ]
  },
  {
   "cell_type": "code",
   "execution_count": 12,
   "id": "2e8dbf9a",
   "metadata": {},
   "outputs": [
    {
     "data": {
      "text/plain": [
       "0.6310497307468557"
      ]
     },
     "execution_count": 12,
     "metadata": {},
     "output_type": "execute_result"
    }
   ],
   "source": [
    "estimator.best_score_"
   ]
  },
  {
   "cell_type": "code",
   "execution_count": 13,
   "id": "4400c2d2",
   "metadata": {},
   "outputs": [
    {
     "name": "stdout",
     "output_type": "stream",
     "text": [
      "Classification report for model KNeighborsClassifier on training data\n",
      "---------------------------------------------------------------------------------\n",
      "              precision    recall  f1-score   support\n",
      "\n",
      "           0       1.00      1.00      1.00     15005\n",
      "           1       1.00      1.00      1.00     14728\n",
      "\n",
      "    accuracy                           1.00     29733\n",
      "   macro avg       1.00      1.00      1.00     29733\n",
      "weighted avg       1.00      1.00      1.00     29733\n",
      "\n",
      "---------------------------------------------------------------------------------\n",
      "Confusion matrix for training set:\n",
      "       N      P\n",
      "N  15005      0\n",
      "P      0  14728\n"
     ]
    }
   ],
   "source": [
    "report(estimator.best_estimator_, X_train, Y_train)"
   ]
  },
  {
   "cell_type": "code",
   "execution_count": 14,
   "id": "f8d62291",
   "metadata": {},
   "outputs": [
    {
     "name": "stdout",
     "output_type": "stream",
     "text": [
      "Classification report for model KNeighborsClassifier on test data\n",
      "---------------------------------------------------------------------------------\n",
      "              precision    recall  f1-score   support\n",
      "\n",
      "           0       0.63      0.69      0.66      5077\n",
      "           1       0.64      0.58      0.61      4834\n",
      "\n",
      "    accuracy                           0.64      9911\n",
      "   macro avg       0.64      0.64      0.64      9911\n",
      "weighted avg       0.64      0.64      0.64      9911\n",
      "\n",
      "---------------------------------------------------------------------------------\n",
      "Confusion matrix for test set:\n",
      "      N     P\n",
      "N  3497  1580\n",
      "P  2016  2818\n"
     ]
    }
   ],
   "source": [
    "report(estimator.best_estimator_, X_test, Y_test, 'test')"
   ]
  },
  {
   "cell_type": "code",
   "execution_count": 15,
   "id": "82ad2ac6",
   "metadata": {},
   "outputs": [
    {
     "data": {
      "text/html": [
       "<style>#sk-container-id-3 {color: black;background-color: white;}#sk-container-id-3 pre{padding: 0;}#sk-container-id-3 div.sk-toggleable {background-color: white;}#sk-container-id-3 label.sk-toggleable__label {cursor: pointer;display: block;width: 100%;margin-bottom: 0;padding: 0.3em;box-sizing: border-box;text-align: center;}#sk-container-id-3 label.sk-toggleable__label-arrow:before {content: \"▸\";float: left;margin-right: 0.25em;color: #696969;}#sk-container-id-3 label.sk-toggleable__label-arrow:hover:before {color: black;}#sk-container-id-3 div.sk-estimator:hover label.sk-toggleable__label-arrow:before {color: black;}#sk-container-id-3 div.sk-toggleable__content {max-height: 0;max-width: 0;overflow: hidden;text-align: left;background-color: #f0f8ff;}#sk-container-id-3 div.sk-toggleable__content pre {margin: 0.2em;color: black;border-radius: 0.25em;background-color: #f0f8ff;}#sk-container-id-3 input.sk-toggleable__control:checked~div.sk-toggleable__content {max-height: 200px;max-width: 100%;overflow: auto;}#sk-container-id-3 input.sk-toggleable__control:checked~label.sk-toggleable__label-arrow:before {content: \"▾\";}#sk-container-id-3 div.sk-estimator input.sk-toggleable__control:checked~label.sk-toggleable__label {background-color: #d4ebff;}#sk-container-id-3 div.sk-label input.sk-toggleable__control:checked~label.sk-toggleable__label {background-color: #d4ebff;}#sk-container-id-3 input.sk-hidden--visually {border: 0;clip: rect(1px 1px 1px 1px);clip: rect(1px, 1px, 1px, 1px);height: 1px;margin: -1px;overflow: hidden;padding: 0;position: absolute;width: 1px;}#sk-container-id-3 div.sk-estimator {font-family: monospace;background-color: #f0f8ff;border: 1px dotted black;border-radius: 0.25em;box-sizing: border-box;margin-bottom: 0.5em;}#sk-container-id-3 div.sk-estimator:hover {background-color: #d4ebff;}#sk-container-id-3 div.sk-parallel-item::after {content: \"\";width: 100%;border-bottom: 1px solid gray;flex-grow: 1;}#sk-container-id-3 div.sk-label:hover label.sk-toggleable__label {background-color: #d4ebff;}#sk-container-id-3 div.sk-serial::before {content: \"\";position: absolute;border-left: 1px solid gray;box-sizing: border-box;top: 0;bottom: 0;left: 50%;z-index: 0;}#sk-container-id-3 div.sk-serial {display: flex;flex-direction: column;align-items: center;background-color: white;padding-right: 0.2em;padding-left: 0.2em;position: relative;}#sk-container-id-3 div.sk-item {position: relative;z-index: 1;}#sk-container-id-3 div.sk-parallel {display: flex;align-items: stretch;justify-content: center;background-color: white;position: relative;}#sk-container-id-3 div.sk-item::before, #sk-container-id-3 div.sk-parallel-item::before {content: \"\";position: absolute;border-left: 1px solid gray;box-sizing: border-box;top: 0;bottom: 0;left: 50%;z-index: -1;}#sk-container-id-3 div.sk-parallel-item {display: flex;flex-direction: column;z-index: 1;position: relative;background-color: white;}#sk-container-id-3 div.sk-parallel-item:first-child::after {align-self: flex-end;width: 50%;}#sk-container-id-3 div.sk-parallel-item:last-child::after {align-self: flex-start;width: 50%;}#sk-container-id-3 div.sk-parallel-item:only-child::after {width: 0;}#sk-container-id-3 div.sk-dashed-wrapped {border: 1px dashed gray;margin: 0 0.4em 0.5em 0.4em;box-sizing: border-box;padding-bottom: 0.4em;background-color: white;}#sk-container-id-3 div.sk-label label {font-family: monospace;font-weight: bold;display: inline-block;line-height: 1.2em;}#sk-container-id-3 div.sk-label-container {text-align: center;}#sk-container-id-3 div.sk-container {/* jupyter's `normalize.less` sets `[hidden] { display: none; }` but bootstrap.min.css set `[hidden] { display: none !important; }` so we also need the `!important` here to be able to override the default hidden behavior on the sphinx rendered scikit-learn.org. See: https://github.com/scikit-learn/scikit-learn/issues/21755 */display: inline-block !important;position: relative;}#sk-container-id-3 div.sk-text-repr-fallback {display: none;}</style><div id=\"sk-container-id-3\" class=\"sk-top-container\"><div class=\"sk-text-repr-fallback\"><pre>KNeighborsClassifier()</pre><b>In a Jupyter environment, please rerun this cell to show the HTML representation or trust the notebook. <br />On GitHub, the HTML representation is unable to render, please try loading this page with nbviewer.org.</b></div><div class=\"sk-container\" hidden><div class=\"sk-item\"><div class=\"sk-estimator sk-toggleable\"><input class=\"sk-toggleable__control sk-hidden--visually\" id=\"sk-estimator-id-5\" type=\"checkbox\" checked><label for=\"sk-estimator-id-5\" class=\"sk-toggleable__label sk-toggleable__label-arrow\">KNeighborsClassifier</label><div class=\"sk-toggleable__content\"><pre>KNeighborsClassifier()</pre></div></div></div></div></div>"
      ],
      "text/plain": [
       "KNeighborsClassifier()"
      ]
     },
     "execution_count": 15,
     "metadata": {},
     "output_type": "execute_result"
    }
   ],
   "source": [
    "knn.fit(X_train_iqr, Y_train)"
   ]
  },
  {
   "cell_type": "code",
   "execution_count": 16,
   "id": "def0405c",
   "metadata": {},
   "outputs": [
    {
     "name": "stdout",
     "output_type": "stream",
     "text": [
      "Classification report for model KNeighborsClassifier on training data\n",
      "---------------------------------------------------------------------------------\n",
      "              precision    recall  f1-score   support\n",
      "\n",
      "           0       0.72      0.74      0.73     15005\n",
      "           1       0.73      0.71      0.72     14728\n",
      "\n",
      "    accuracy                           0.73     29733\n",
      "   macro avg       0.73      0.73      0.73     29733\n",
      "weighted avg       0.73      0.73      0.73     29733\n",
      "\n",
      "---------------------------------------------------------------------------------\n",
      "Confusion matrix for training set:\n",
      "       N      P\n",
      "N  11082   3923\n",
      "P   4237  10491\n"
     ]
    }
   ],
   "source": [
    "report(knn, X_train_iqr, Y_train)"
   ]
  },
  {
   "cell_type": "code",
   "execution_count": 17,
   "id": "8c6fd667",
   "metadata": {},
   "outputs": [
    {
     "name": "stdout",
     "output_type": "stream",
     "text": [
      "Classification report for model KNeighborsClassifier on test data\n",
      "---------------------------------------------------------------------------------\n",
      "              precision    recall  f1-score   support\n",
      "\n",
      "           0       0.59      0.60      0.60      5077\n",
      "           1       0.58      0.56      0.57      4834\n",
      "\n",
      "    accuracy                           0.58      9911\n",
      "   macro avg       0.58      0.58      0.58      9911\n",
      "weighted avg       0.58      0.58      0.58      9911\n",
      "\n",
      "---------------------------------------------------------------------------------\n",
      "Confusion matrix for test set:\n",
      "      N     P\n",
      "N  3066  2011\n",
      "P  2103  2731\n"
     ]
    }
   ],
   "source": [
    "report(knn, X_test_iqr, Y_test, 'test')"
   ]
  },
  {
   "cell_type": "code",
   "execution_count": 18,
   "id": "1e75f30e",
   "metadata": {},
   "outputs": [
    {
     "name": "stdout",
     "output_type": "stream",
     "text": [
      "Fitting 4 folds for each of 40 candidates, totalling 160 fits\n",
      "[CV 1/4] END n_neighbors=10, p=1, weights=uniform;, score=0.590 total time=   3.5s\n",
      "[CV 2/4] END n_neighbors=10, p=1, weights=uniform;, score=0.591 total time=   3.4s\n",
      "[CV 3/4] END n_neighbors=10, p=1, weights=uniform;, score=0.583 total time=   3.5s\n",
      "[CV 4/4] END n_neighbors=10, p=1, weights=uniform;, score=0.590 total time=   3.6s\n",
      "[CV 1/4] END n_neighbors=10, p=1, weights=distance;, score=0.593 total time=   3.4s\n",
      "[CV 2/4] END n_neighbors=10, p=1, weights=distance;, score=0.595 total time=   3.5s\n",
      "[CV 3/4] END n_neighbors=10, p=1, weights=distance;, score=0.593 total time=   3.5s\n",
      "[CV 4/4] END n_neighbors=10, p=1, weights=distance;, score=0.594 total time=   4.4s\n",
      "[CV 1/4] END n_neighbors=10, p=2, weights=uniform;, score=0.587 total time=   0.9s\n",
      "[CV 2/4] END n_neighbors=10, p=2, weights=uniform;, score=0.582 total time=   0.8s\n",
      "[CV 3/4] END n_neighbors=10, p=2, weights=uniform;, score=0.576 total time=   0.7s\n",
      "[CV 4/4] END n_neighbors=10, p=2, weights=uniform;, score=0.584 total time=   0.8s\n",
      "[CV 1/4] END n_neighbors=10, p=2, weights=distance;, score=0.588 total time=   0.6s\n",
      "[CV 2/4] END n_neighbors=10, p=2, weights=distance;, score=0.586 total time=   0.5s\n",
      "[CV 3/4] END n_neighbors=10, p=2, weights=distance;, score=0.585 total time=   0.6s\n",
      "[CV 4/4] END n_neighbors=10, p=2, weights=distance;, score=0.592 total time=   0.5s\n",
      "[CV 1/4] END n_neighbors=12, p=1, weights=uniform;, score=0.599 total time=   3.9s\n",
      "[CV 2/4] END n_neighbors=12, p=1, weights=uniform;, score=0.593 total time=   4.0s\n",
      "[CV 3/4] END n_neighbors=12, p=1, weights=uniform;, score=0.592 total time=   3.9s\n",
      "[CV 4/4] END n_neighbors=12, p=1, weights=uniform;, score=0.593 total time=   3.9s\n",
      "[CV 1/4] END n_neighbors=12, p=1, weights=distance;, score=0.599 total time=   3.6s\n",
      "[CV 2/4] END n_neighbors=12, p=1, weights=distance;, score=0.595 total time=   3.8s\n",
      "[CV 3/4] END n_neighbors=12, p=1, weights=distance;, score=0.594 total time=   5.3s\n",
      "[CV 4/4] END n_neighbors=12, p=1, weights=distance;, score=0.598 total time=   4.2s\n",
      "[CV 1/4] END n_neighbors=12, p=2, weights=uniform;, score=0.586 total time=   0.6s\n",
      "[CV 2/4] END n_neighbors=12, p=2, weights=uniform;, score=0.590 total time=   0.6s\n",
      "[CV 3/4] END n_neighbors=12, p=2, weights=uniform;, score=0.581 total time=   0.6s\n",
      "[CV 4/4] END n_neighbors=12, p=2, weights=uniform;, score=0.590 total time=   0.6s\n",
      "[CV 1/4] END n_neighbors=12, p=2, weights=distance;, score=0.590 total time=   0.5s\n",
      "[CV 2/4] END n_neighbors=12, p=2, weights=distance;, score=0.591 total time=   0.5s\n",
      "[CV 3/4] END n_neighbors=12, p=2, weights=distance;, score=0.585 total time=   0.6s\n",
      "[CV 4/4] END n_neighbors=12, p=2, weights=distance;, score=0.597 total time=   0.6s\n",
      "[CV 1/4] END n_neighbors=14, p=1, weights=uniform;, score=0.600 total time=   4.5s\n",
      "[CV 2/4] END n_neighbors=14, p=1, weights=uniform;, score=0.594 total time=   4.1s\n",
      "[CV 3/4] END n_neighbors=14, p=1, weights=uniform;, score=0.592 total time=   4.0s\n",
      "[CV 4/4] END n_neighbors=14, p=1, weights=uniform;, score=0.599 total time=   4.0s\n",
      "[CV 1/4] END n_neighbors=14, p=1, weights=distance;, score=0.601 total time=   3.7s\n",
      "[CV 2/4] END n_neighbors=14, p=1, weights=distance;, score=0.599 total time=   3.7s\n",
      "[CV 3/4] END n_neighbors=14, p=1, weights=distance;, score=0.596 total time=   3.7s\n",
      "[CV 4/4] END n_neighbors=14, p=1, weights=distance;, score=0.603 total time=   3.6s\n",
      "[CV 1/4] END n_neighbors=14, p=2, weights=uniform;, score=0.590 total time=   0.6s\n",
      "[CV 2/4] END n_neighbors=14, p=2, weights=uniform;, score=0.590 total time=   0.7s\n",
      "[CV 3/4] END n_neighbors=14, p=2, weights=uniform;, score=0.583 total time=   0.7s\n",
      "[CV 4/4] END n_neighbors=14, p=2, weights=uniform;, score=0.588 total time=   0.7s\n",
      "[CV 1/4] END n_neighbors=14, p=2, weights=distance;, score=0.593 total time=   0.5s\n",
      "[CV 2/4] END n_neighbors=14, p=2, weights=distance;, score=0.594 total time=   0.5s\n",
      "[CV 3/4] END n_neighbors=14, p=2, weights=distance;, score=0.589 total time=   0.5s\n",
      "[CV 4/4] END n_neighbors=14, p=2, weights=distance;, score=0.597 total time=   0.5s\n",
      "[CV 1/4] END n_neighbors=16, p=1, weights=uniform;, score=0.605 total time=   3.7s\n",
      "[CV 2/4] END n_neighbors=16, p=1, weights=uniform;, score=0.599 total time=   3.8s\n",
      "[CV 3/4] END n_neighbors=16, p=1, weights=uniform;, score=0.595 total time=   3.7s\n",
      "[CV 4/4] END n_neighbors=16, p=1, weights=uniform;, score=0.601 total time=   3.9s\n",
      "[CV 1/4] END n_neighbors=16, p=1, weights=distance;, score=0.605 total time=   3.7s\n",
      "[CV 2/4] END n_neighbors=16, p=1, weights=distance;, score=0.605 total time=   3.8s\n",
      "[CV 3/4] END n_neighbors=16, p=1, weights=distance;, score=0.600 total time=   3.7s\n",
      "[CV 4/4] END n_neighbors=16, p=1, weights=distance;, score=0.605 total time=   3.7s\n",
      "[CV 1/4] END n_neighbors=16, p=2, weights=uniform;, score=0.591 total time=   0.8s\n",
      "[CV 2/4] END n_neighbors=16, p=2, weights=uniform;, score=0.592 total time=   0.7s\n",
      "[CV 3/4] END n_neighbors=16, p=2, weights=uniform;, score=0.585 total time=   0.7s\n",
      "[CV 4/4] END n_neighbors=16, p=2, weights=uniform;, score=0.589 total time=   0.7s\n",
      "[CV 1/4] END n_neighbors=16, p=2, weights=distance;, score=0.593 total time=   0.6s\n",
      "[CV 2/4] END n_neighbors=16, p=2, weights=distance;, score=0.597 total time=   0.5s\n",
      "[CV 3/4] END n_neighbors=16, p=2, weights=distance;, score=0.592 total time=   0.5s\n",
      "[CV 4/4] END n_neighbors=16, p=2, weights=distance;, score=0.597 total time=   0.5s\n",
      "[CV 1/4] END n_neighbors=18, p=1, weights=uniform;, score=0.605 total time=   3.7s\n",
      "[CV 2/4] END n_neighbors=18, p=1, weights=uniform;, score=0.601 total time=   3.9s\n",
      "[CV 3/4] END n_neighbors=18, p=1, weights=uniform;, score=0.600 total time=   3.9s\n",
      "[CV 4/4] END n_neighbors=18, p=1, weights=uniform;, score=0.605 total time=   3.9s\n",
      "[CV 1/4] END n_neighbors=18, p=1, weights=distance;, score=0.605 total time=   3.7s\n",
      "[CV 2/4] END n_neighbors=18, p=1, weights=distance;, score=0.608 total time=   3.6s\n",
      "[CV 3/4] END n_neighbors=18, p=1, weights=distance;, score=0.603 total time=   3.7s\n",
      "[CV 4/4] END n_neighbors=18, p=1, weights=distance;, score=0.606 total time=   3.6s\n",
      "[CV 1/4] END n_neighbors=18, p=2, weights=uniform;, score=0.594 total time=   0.7s\n",
      "[CV 2/4] END n_neighbors=18, p=2, weights=uniform;, score=0.593 total time=   0.7s\n",
      "[CV 3/4] END n_neighbors=18, p=2, weights=uniform;, score=0.588 total time=   0.6s\n",
      "[CV 4/4] END n_neighbors=18, p=2, weights=uniform;, score=0.595 total time=   0.7s\n",
      "[CV 1/4] END n_neighbors=18, p=2, weights=distance;, score=0.597 total time=   0.5s\n",
      "[CV 2/4] END n_neighbors=18, p=2, weights=distance;, score=0.594 total time=   0.6s\n",
      "[CV 3/4] END n_neighbors=18, p=2, weights=distance;, score=0.591 total time=   0.5s\n",
      "[CV 4/4] END n_neighbors=18, p=2, weights=distance;, score=0.597 total time=   0.5s\n",
      "[CV 1/4] END n_neighbors=20, p=1, weights=uniform;, score=0.606 total time=   3.8s\n",
      "[CV 2/4] END n_neighbors=20, p=1, weights=uniform;, score=0.603 total time=   3.9s\n",
      "[CV 3/4] END n_neighbors=20, p=1, weights=uniform;, score=0.599 total time=   3.9s\n",
      "[CV 4/4] END n_neighbors=20, p=1, weights=uniform;, score=0.600 total time=   4.0s\n",
      "[CV 1/4] END n_neighbors=20, p=1, weights=distance;, score=0.611 total time=   3.7s\n",
      "[CV 2/4] END n_neighbors=20, p=1, weights=distance;, score=0.608 total time=   3.8s\n",
      "[CV 3/4] END n_neighbors=20, p=1, weights=distance;, score=0.602 total time=   3.9s\n",
      "[CV 4/4] END n_neighbors=20, p=1, weights=distance;, score=0.605 total time=   3.9s\n",
      "[CV 1/4] END n_neighbors=20, p=2, weights=uniform;, score=0.593 total time=   0.7s\n",
      "[CV 2/4] END n_neighbors=20, p=2, weights=uniform;, score=0.592 total time=   0.6s\n",
      "[CV 3/4] END n_neighbors=20, p=2, weights=uniform;, score=0.585 total time=   0.7s\n",
      "[CV 4/4] END n_neighbors=20, p=2, weights=uniform;, score=0.595 total time=   0.6s\n",
      "[CV 1/4] END n_neighbors=20, p=2, weights=distance;, score=0.594 total time=   0.5s\n",
      "[CV 2/4] END n_neighbors=20, p=2, weights=distance;, score=0.592 total time=   0.5s\n",
      "[CV 3/4] END n_neighbors=20, p=2, weights=distance;, score=0.590 total time=   0.4s\n",
      "[CV 4/4] END n_neighbors=20, p=2, weights=distance;, score=0.599 total time=   0.5s\n",
      "[CV 1/4] END n_neighbors=22, p=1, weights=uniform;, score=0.606 total time=   3.7s\n",
      "[CV 2/4] END n_neighbors=22, p=1, weights=uniform;, score=0.605 total time=   3.5s\n"
     ]
    },
    {
     "name": "stdout",
     "output_type": "stream",
     "text": [
      "[CV 3/4] END n_neighbors=22, p=1, weights=uniform;, score=0.602 total time=   3.5s\n",
      "[CV 4/4] END n_neighbors=22, p=1, weights=uniform;, score=0.603 total time=   3.4s\n",
      "[CV 1/4] END n_neighbors=22, p=1, weights=distance;, score=0.609 total time=   3.2s\n",
      "[CV 2/4] END n_neighbors=22, p=1, weights=distance;, score=0.608 total time=   3.3s\n",
      "[CV 3/4] END n_neighbors=22, p=1, weights=distance;, score=0.604 total time=   3.3s\n",
      "[CV 4/4] END n_neighbors=22, p=1, weights=distance;, score=0.605 total time=   3.3s\n",
      "[CV 1/4] END n_neighbors=22, p=2, weights=uniform;, score=0.598 total time=   0.6s\n",
      "[CV 2/4] END n_neighbors=22, p=2, weights=uniform;, score=0.594 total time=   0.6s\n",
      "[CV 3/4] END n_neighbors=22, p=2, weights=uniform;, score=0.585 total time=   0.7s\n",
      "[CV 4/4] END n_neighbors=22, p=2, weights=uniform;, score=0.601 total time=   0.6s\n",
      "[CV 1/4] END n_neighbors=22, p=2, weights=distance;, score=0.597 total time=   0.4s\n",
      "[CV 2/4] END n_neighbors=22, p=2, weights=distance;, score=0.598 total time=   0.4s\n",
      "[CV 3/4] END n_neighbors=22, p=2, weights=distance;, score=0.589 total time=   0.4s\n",
      "[CV 4/4] END n_neighbors=22, p=2, weights=distance;, score=0.602 total time=   0.4s\n",
      "[CV 1/4] END n_neighbors=24, p=1, weights=uniform;, score=0.610 total time=   3.5s\n",
      "[CV 2/4] END n_neighbors=24, p=1, weights=uniform;, score=0.607 total time=   3.4s\n",
      "[CV 3/4] END n_neighbors=24, p=1, weights=uniform;, score=0.602 total time=   3.5s\n",
      "[CV 4/4] END n_neighbors=24, p=1, weights=uniform;, score=0.605 total time=   3.4s\n",
      "[CV 1/4] END n_neighbors=24, p=1, weights=distance;, score=0.611 total time=   3.3s\n",
      "[CV 2/4] END n_neighbors=24, p=1, weights=distance;, score=0.609 total time=   3.3s\n",
      "[CV 3/4] END n_neighbors=24, p=1, weights=distance;, score=0.600 total time=   3.3s\n",
      "[CV 4/4] END n_neighbors=24, p=1, weights=distance;, score=0.608 total time=   3.3s\n",
      "[CV 1/4] END n_neighbors=24, p=2, weights=uniform;, score=0.599 total time=   0.7s\n",
      "[CV 2/4] END n_neighbors=24, p=2, weights=uniform;, score=0.596 total time=   0.6s\n",
      "[CV 3/4] END n_neighbors=24, p=2, weights=uniform;, score=0.586 total time=   0.6s\n",
      "[CV 4/4] END n_neighbors=24, p=2, weights=uniform;, score=0.601 total time=   0.6s\n",
      "[CV 1/4] END n_neighbors=24, p=2, weights=distance;, score=0.597 total time=   0.5s\n",
      "[CV 2/4] END n_neighbors=24, p=2, weights=distance;, score=0.598 total time=   0.4s\n",
      "[CV 3/4] END n_neighbors=24, p=2, weights=distance;, score=0.592 total time=   0.4s\n",
      "[CV 4/4] END n_neighbors=24, p=2, weights=distance;, score=0.604 total time=   0.4s\n",
      "[CV 1/4] END n_neighbors=26, p=1, weights=uniform;, score=0.611 total time=   3.5s\n",
      "[CV 2/4] END n_neighbors=26, p=1, weights=uniform;, score=0.605 total time=   3.5s\n",
      "[CV 3/4] END n_neighbors=26, p=1, weights=uniform;, score=0.606 total time=   3.5s\n",
      "[CV 4/4] END n_neighbors=26, p=1, weights=uniform;, score=0.601 total time=   3.4s\n",
      "[CV 1/4] END n_neighbors=26, p=1, weights=distance;, score=0.612 total time=   3.3s\n",
      "[CV 2/4] END n_neighbors=26, p=1, weights=distance;, score=0.610 total time=   3.3s\n",
      "[CV 3/4] END n_neighbors=26, p=1, weights=distance;, score=0.607 total time=   3.3s\n",
      "[CV 4/4] END n_neighbors=26, p=1, weights=distance;, score=0.608 total time=   3.3s\n",
      "[CV 1/4] END n_neighbors=26, p=2, weights=uniform;, score=0.601 total time=   0.6s\n",
      "[CV 2/4] END n_neighbors=26, p=2, weights=uniform;, score=0.599 total time=   0.6s\n",
      "[CV 3/4] END n_neighbors=26, p=2, weights=uniform;, score=0.590 total time=   0.6s\n",
      "[CV 4/4] END n_neighbors=26, p=2, weights=uniform;, score=0.602 total time=   0.6s\n",
      "[CV 1/4] END n_neighbors=26, p=2, weights=distance;, score=0.600 total time=   0.4s\n",
      "[CV 2/4] END n_neighbors=26, p=2, weights=distance;, score=0.605 total time=   0.4s\n",
      "[CV 3/4] END n_neighbors=26, p=2, weights=distance;, score=0.593 total time=   0.4s\n",
      "[CV 4/4] END n_neighbors=26, p=2, weights=distance;, score=0.606 total time=   0.4s\n",
      "[CV 1/4] END n_neighbors=28, p=1, weights=uniform;, score=0.614 total time=   3.5s\n",
      "[CV 2/4] END n_neighbors=28, p=1, weights=uniform;, score=0.610 total time=   3.4s\n",
      "[CV 3/4] END n_neighbors=28, p=1, weights=uniform;, score=0.608 total time=   3.4s\n",
      "[CV 4/4] END n_neighbors=28, p=1, weights=uniform;, score=0.607 total time=   3.5s\n",
      "[CV 1/4] END n_neighbors=28, p=1, weights=distance;, score=0.614 total time=   3.3s\n",
      "[CV 2/4] END n_neighbors=28, p=1, weights=distance;, score=0.613 total time=   3.3s\n",
      "[CV 3/4] END n_neighbors=28, p=1, weights=distance;, score=0.608 total time=   3.3s\n",
      "[CV 4/4] END n_neighbors=28, p=1, weights=distance;, score=0.608 total time=   3.3s\n",
      "[CV 1/4] END n_neighbors=28, p=2, weights=uniform;, score=0.603 total time=   0.6s\n",
      "[CV 2/4] END n_neighbors=28, p=2, weights=uniform;, score=0.600 total time=   0.6s\n",
      "[CV 3/4] END n_neighbors=28, p=2, weights=uniform;, score=0.589 total time=   0.6s\n",
      "[CV 4/4] END n_neighbors=28, p=2, weights=uniform;, score=0.600 total time=   0.6s\n",
      "[CV 1/4] END n_neighbors=28, p=2, weights=distance;, score=0.604 total time=   0.4s\n",
      "[CV 2/4] END n_neighbors=28, p=2, weights=distance;, score=0.601 total time=   0.4s\n",
      "[CV 3/4] END n_neighbors=28, p=2, weights=distance;, score=0.592 total time=   0.4s\n",
      "[CV 4/4] END n_neighbors=28, p=2, weights=distance;, score=0.605 total time=   0.4s\n"
     ]
    },
    {
     "data": {
      "text/html": [
       "<style>#sk-container-id-4 {color: black;background-color: white;}#sk-container-id-4 pre{padding: 0;}#sk-container-id-4 div.sk-toggleable {background-color: white;}#sk-container-id-4 label.sk-toggleable__label {cursor: pointer;display: block;width: 100%;margin-bottom: 0;padding: 0.3em;box-sizing: border-box;text-align: center;}#sk-container-id-4 label.sk-toggleable__label-arrow:before {content: \"▸\";float: left;margin-right: 0.25em;color: #696969;}#sk-container-id-4 label.sk-toggleable__label-arrow:hover:before {color: black;}#sk-container-id-4 div.sk-estimator:hover label.sk-toggleable__label-arrow:before {color: black;}#sk-container-id-4 div.sk-toggleable__content {max-height: 0;max-width: 0;overflow: hidden;text-align: left;background-color: #f0f8ff;}#sk-container-id-4 div.sk-toggleable__content pre {margin: 0.2em;color: black;border-radius: 0.25em;background-color: #f0f8ff;}#sk-container-id-4 input.sk-toggleable__control:checked~div.sk-toggleable__content {max-height: 200px;max-width: 100%;overflow: auto;}#sk-container-id-4 input.sk-toggleable__control:checked~label.sk-toggleable__label-arrow:before {content: \"▾\";}#sk-container-id-4 div.sk-estimator input.sk-toggleable__control:checked~label.sk-toggleable__label {background-color: #d4ebff;}#sk-container-id-4 div.sk-label input.sk-toggleable__control:checked~label.sk-toggleable__label {background-color: #d4ebff;}#sk-container-id-4 input.sk-hidden--visually {border: 0;clip: rect(1px 1px 1px 1px);clip: rect(1px, 1px, 1px, 1px);height: 1px;margin: -1px;overflow: hidden;padding: 0;position: absolute;width: 1px;}#sk-container-id-4 div.sk-estimator {font-family: monospace;background-color: #f0f8ff;border: 1px dotted black;border-radius: 0.25em;box-sizing: border-box;margin-bottom: 0.5em;}#sk-container-id-4 div.sk-estimator:hover {background-color: #d4ebff;}#sk-container-id-4 div.sk-parallel-item::after {content: \"\";width: 100%;border-bottom: 1px solid gray;flex-grow: 1;}#sk-container-id-4 div.sk-label:hover label.sk-toggleable__label {background-color: #d4ebff;}#sk-container-id-4 div.sk-serial::before {content: \"\";position: absolute;border-left: 1px solid gray;box-sizing: border-box;top: 0;bottom: 0;left: 50%;z-index: 0;}#sk-container-id-4 div.sk-serial {display: flex;flex-direction: column;align-items: center;background-color: white;padding-right: 0.2em;padding-left: 0.2em;position: relative;}#sk-container-id-4 div.sk-item {position: relative;z-index: 1;}#sk-container-id-4 div.sk-parallel {display: flex;align-items: stretch;justify-content: center;background-color: white;position: relative;}#sk-container-id-4 div.sk-item::before, #sk-container-id-4 div.sk-parallel-item::before {content: \"\";position: absolute;border-left: 1px solid gray;box-sizing: border-box;top: 0;bottom: 0;left: 50%;z-index: -1;}#sk-container-id-4 div.sk-parallel-item {display: flex;flex-direction: column;z-index: 1;position: relative;background-color: white;}#sk-container-id-4 div.sk-parallel-item:first-child::after {align-self: flex-end;width: 50%;}#sk-container-id-4 div.sk-parallel-item:last-child::after {align-self: flex-start;width: 50%;}#sk-container-id-4 div.sk-parallel-item:only-child::after {width: 0;}#sk-container-id-4 div.sk-dashed-wrapped {border: 1px dashed gray;margin: 0 0.4em 0.5em 0.4em;box-sizing: border-box;padding-bottom: 0.4em;background-color: white;}#sk-container-id-4 div.sk-label label {font-family: monospace;font-weight: bold;display: inline-block;line-height: 1.2em;}#sk-container-id-4 div.sk-label-container {text-align: center;}#sk-container-id-4 div.sk-container {/* jupyter's `normalize.less` sets `[hidden] { display: none; }` but bootstrap.min.css set `[hidden] { display: none !important; }` so we also need the `!important` here to be able to override the default hidden behavior on the sphinx rendered scikit-learn.org. See: https://github.com/scikit-learn/scikit-learn/issues/21755 */display: inline-block !important;position: relative;}#sk-container-id-4 div.sk-text-repr-fallback {display: none;}</style><div id=\"sk-container-id-4\" class=\"sk-top-container\"><div class=\"sk-text-repr-fallback\"><pre>GridSearchCV(cv=4, estimator=KNeighborsClassifier(),\n",
       "             param_grid={&#x27;n_neighbors&#x27;: range(10, 30, 2), &#x27;p&#x27;: [1, 2],\n",
       "                         &#x27;weights&#x27;: [&#x27;uniform&#x27;, &#x27;distance&#x27;]},\n",
       "             verbose=4)</pre><b>In a Jupyter environment, please rerun this cell to show the HTML representation or trust the notebook. <br />On GitHub, the HTML representation is unable to render, please try loading this page with nbviewer.org.</b></div><div class=\"sk-container\" hidden><div class=\"sk-item sk-dashed-wrapped\"><div class=\"sk-label-container\"><div class=\"sk-label sk-toggleable\"><input class=\"sk-toggleable__control sk-hidden--visually\" id=\"sk-estimator-id-6\" type=\"checkbox\" ><label for=\"sk-estimator-id-6\" class=\"sk-toggleable__label sk-toggleable__label-arrow\">GridSearchCV</label><div class=\"sk-toggleable__content\"><pre>GridSearchCV(cv=4, estimator=KNeighborsClassifier(),\n",
       "             param_grid={&#x27;n_neighbors&#x27;: range(10, 30, 2), &#x27;p&#x27;: [1, 2],\n",
       "                         &#x27;weights&#x27;: [&#x27;uniform&#x27;, &#x27;distance&#x27;]},\n",
       "             verbose=4)</pre></div></div></div><div class=\"sk-parallel\"><div class=\"sk-parallel-item\"><div class=\"sk-item\"><div class=\"sk-label-container\"><div class=\"sk-label sk-toggleable\"><input class=\"sk-toggleable__control sk-hidden--visually\" id=\"sk-estimator-id-7\" type=\"checkbox\" ><label for=\"sk-estimator-id-7\" class=\"sk-toggleable__label sk-toggleable__label-arrow\">estimator: KNeighborsClassifier</label><div class=\"sk-toggleable__content\"><pre>KNeighborsClassifier()</pre></div></div></div><div class=\"sk-serial\"><div class=\"sk-item\"><div class=\"sk-estimator sk-toggleable\"><input class=\"sk-toggleable__control sk-hidden--visually\" id=\"sk-estimator-id-8\" type=\"checkbox\" ><label for=\"sk-estimator-id-8\" class=\"sk-toggleable__label sk-toggleable__label-arrow\">KNeighborsClassifier</label><div class=\"sk-toggleable__content\"><pre>KNeighborsClassifier()</pre></div></div></div></div></div></div></div></div></div></div>"
      ],
      "text/plain": [
       "GridSearchCV(cv=4, estimator=KNeighborsClassifier(),\n",
       "             param_grid={'n_neighbors': range(10, 30, 2), 'p': [1, 2],\n",
       "                         'weights': ['uniform', 'distance']},\n",
       "             verbose=4)"
      ]
     },
     "execution_count": 18,
     "metadata": {},
     "output_type": "execute_result"
    }
   ],
   "source": [
    "estimator2 = GridSearchCV(KNeighborsClassifier(), params, cv = 4, verbose = 4)\n",
    "estimator2.fit(X_train_iqr, Y_train)"
   ]
  },
  {
   "cell_type": "code",
   "execution_count": 19,
   "id": "a2d16786",
   "metadata": {},
   "outputs": [
    {
     "name": "stdout",
     "output_type": "stream",
     "text": [
      "Classification report for model KNeighborsClassifier on training data\n",
      "---------------------------------------------------------------------------------\n",
      "              precision    recall  f1-score   support\n",
      "\n",
      "           0       1.00      1.00      1.00     15005\n",
      "           1       1.00      1.00      1.00     14728\n",
      "\n",
      "    accuracy                           1.00     29733\n",
      "   macro avg       1.00      1.00      1.00     29733\n",
      "weighted avg       1.00      1.00      1.00     29733\n",
      "\n",
      "---------------------------------------------------------------------------------\n",
      "Confusion matrix for training set:\n",
      "       N      P\n",
      "N  15005      0\n",
      "P      0  14728\n",
      "Classification report for model KNeighborsClassifier on test data\n",
      "---------------------------------------------------------------------------------\n",
      "              precision    recall  f1-score   support\n",
      "\n",
      "           0       0.62      0.64      0.63      5077\n",
      "           1       0.61      0.58      0.59      4834\n",
      "\n",
      "    accuracy                           0.61      9911\n",
      "   macro avg       0.61      0.61      0.61      9911\n",
      "weighted avg       0.61      0.61      0.61      9911\n",
      "\n",
      "---------------------------------------------------------------------------------\n",
      "Confusion matrix for test set:\n",
      "      N     P\n",
      "N  3261  1816\n",
      "P  2034  2800\n"
     ]
    }
   ],
   "source": [
    "report(estimator2.best_estimator_, X_train_iqr, Y_train)\n",
    "report(estimator2.best_estimator_, X_test_iqr, Y_test, 'test')"
   ]
  },
  {
   "cell_type": "code",
   "execution_count": 20,
   "id": "41774bb7",
   "metadata": {},
   "outputs": [
    {
     "data": {
      "image/png": "[encoded data removed]",
      "text/plain": [
       "<Figure size 640x480 with 1 Axes>"
      ]
     },
     "metadata": {},
     "output_type": "display_data"
    }
   ],
   "source": [
    "models = [knn, estimator.best_estimator_, estimator2.best_estimator_]\n",
    "model_names = ['KNN', 'GridSearchCV', 'GridSearchCVIQR']\n",
    "for model, model_name in zip(models, model_names):\n",
    "    y_pred = model.predict(X_test)\n",
    "    fpr,tpr, _ = roc_curve(Y_test, y_pred)\n",
    "    auc = roc_auc_score(Y_test, y_pred)\n",
    "    lab = model_name + \"(auc: \" + str(round(auc, 2)) + \")\"\n",
    "    plt.plot(fpr, tpr, label=lab)\n",
    "\n",
    "plt.plot([0, 1], [0, 1], label='Random (auc: 0.5)', color='red')\n",
    "plt.title(\"Model comparison\")\n",
    "plt.legend()\n",
    "plt.show()"
   ]
  },
  {
   "cell_type": "code",
   "execution_count": null,
   "id": "903cd4dc",
   "metadata": {},
   "outputs": [],
   "source": []
  }
 ],
 "metadata": {
  "kernelspec": {
   "display_name": "Python 3 (ipykernel)",
   "language": "python",
   "name": "python3"
  },
  "language_info": {
   "codemirror_mode": {
    "name": "ipython",
    "version": 3
   },
   "file_extension": ".py",
   "mimetype": "text/x-python",
   "name": "python",
   "nbconvert_exporter": "python",
   "pygments_lexer": "ipython3",
   "version": "3.10.6"
  }
 },
 "nbformat": 4,
 "nbformat_minor": 5
}
