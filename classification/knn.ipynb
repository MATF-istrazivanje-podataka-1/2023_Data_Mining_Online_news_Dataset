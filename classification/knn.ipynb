{
 "cells": [
  {
   "cell_type": "code",
   "execution_count": 42,
   "id": "a610169e",
   "metadata": {},
   "outputs": [],
   "source": [
    "import pandas as pd\n",
    "from sklearn.preprocessing import MinMaxScaler\n",
    "from sklearn.neighbors import KNeighborsClassifier\n",
    "from sklearn.metrics import classification_report\n",
    "from termcolor import colored\n",
    "from sklearn.metrics import confusion_matrix\n",
    "from sklearn.model_selection import GridSearchCV\n",
    "from sklearn.metrics import roc_curve, roc_auc_score\n",
    "from matplotlib import pyplot as plt"
   ]
  },
  {
   "cell_type": "code",
   "execution_count": 43,
   "id": "4463efc3",
   "metadata": {},
   "outputs": [],
   "source": [
    "%store -r X\n",
    "%store -r Y\n",
    "%store -r X_train\n",
    "%store -r Y_train\n",
    "%store -r X_test\n",
    "%store -r Y_test\n",
    "%store -r X_train_iqr\n",
    "%store -r X_test_iqr"
   ]
  },
  {
   "cell_type": "code",
   "execution_count": 44,
   "id": "7ca29fd4",
   "metadata": {},
   "outputs": [],
   "source": [
    "def report(model, X, Y, text = \"training\"):\n",
    "    Y_pred = model.predict(X)\n",
    "    \n",
    "    print(\"Classification report for model {} on {} data\".format(type(model).__name__, text))\n",
    "    print(\"---------------------------------------------------------------------------------\")\n",
    "    print(classification_report(Y, Y_pred))\n",
    "    print(\"---------------------------------------------------------------------------------\")\n",
    "    print(f'Confusion matrix for {text} set:')\n",
    "    print(pd.DataFrame(confusion_matrix(Y, Y_pred), columns=['N', 'P'], index=['N', 'P']))"
   ]
  },
  {
   "cell_type": "code",
   "execution_count": 45,
   "id": "c3534d1c",
   "metadata": {},
   "outputs": [],
   "source": [
    "scaler = MinMaxScaler()\n",
    "scaler.fit(X_train)\n",
    "X_train = scaler.transform(X_train)\n",
    "X_test = scaler.transform(X_test)\n",
    "X_train_iqr = scaler.transform(X_train_iqr)\n",
    "X_test_iqr = scaler.transform(X_test_iqr)"
   ]
  },
  {
   "cell_type": "code",
   "execution_count": 46,
   "id": "33b1763b",
   "metadata": {
    "scrolled": true
   },
   "outputs": [
    {
     "data": {
      "text/html": [
       "<style>#sk-container-id-5 {color: black;background-color: white;}#sk-container-id-5 pre{padding: 0;}#sk-container-id-5 div.sk-toggleable {background-color: white;}#sk-container-id-5 label.sk-toggleable__label {cursor: pointer;display: block;width: 100%;margin-bottom: 0;padding: 0.3em;box-sizing: border-box;text-align: center;}#sk-container-id-5 label.sk-toggleable__label-arrow:before {content: \"▸\";float: left;margin-right: 0.25em;color: #696969;}#sk-container-id-5 label.sk-toggleable__label-arrow:hover:before {color: black;}#sk-container-id-5 div.sk-estimator:hover label.sk-toggleable__label-arrow:before {color: black;}#sk-container-id-5 div.sk-toggleable__content {max-height: 0;max-width: 0;overflow: hidden;text-align: left;background-color: #f0f8ff;}#sk-container-id-5 div.sk-toggleable__content pre {margin: 0.2em;color: black;border-radius: 0.25em;background-color: #f0f8ff;}#sk-container-id-5 input.sk-toggleable__control:checked~div.sk-toggleable__content {max-height: 200px;max-width: 100%;overflow: auto;}#sk-container-id-5 input.sk-toggleable__control:checked~label.sk-toggleable__label-arrow:before {content: \"▾\";}#sk-container-id-5 div.sk-estimator input.sk-toggleable__control:checked~label.sk-toggleable__label {background-color: #d4ebff;}#sk-container-id-5 div.sk-label input.sk-toggleable__control:checked~label.sk-toggleable__label {background-color: #d4ebff;}#sk-container-id-5 input.sk-hidden--visually {border: 0;clip: rect(1px 1px 1px 1px);clip: rect(1px, 1px, 1px, 1px);height: 1px;margin: -1px;overflow: hidden;padding: 0;position: absolute;width: 1px;}#sk-container-id-5 div.sk-estimator {font-family: monospace;background-color: #f0f8ff;border: 1px dotted black;border-radius: 0.25em;box-sizing: border-box;margin-bottom: 0.5em;}#sk-container-id-5 div.sk-estimator:hover {background-color: #d4ebff;}#sk-container-id-5 div.sk-parallel-item::after {content: \"\";width: 100%;border-bottom: 1px solid gray;flex-grow: 1;}#sk-container-id-5 div.sk-label:hover label.sk-toggleable__label {background-color: #d4ebff;}#sk-container-id-5 div.sk-serial::before {content: \"\";position: absolute;border-left: 1px solid gray;box-sizing: border-box;top: 0;bottom: 0;left: 50%;z-index: 0;}#sk-container-id-5 div.sk-serial {display: flex;flex-direction: column;align-items: center;background-color: white;padding-right: 0.2em;padding-left: 0.2em;position: relative;}#sk-container-id-5 div.sk-item {position: relative;z-index: 1;}#sk-container-id-5 div.sk-parallel {display: flex;align-items: stretch;justify-content: center;background-color: white;position: relative;}#sk-container-id-5 div.sk-item::before, #sk-container-id-5 div.sk-parallel-item::before {content: \"\";position: absolute;border-left: 1px solid gray;box-sizing: border-box;top: 0;bottom: 0;left: 50%;z-index: -1;}#sk-container-id-5 div.sk-parallel-item {display: flex;flex-direction: column;z-index: 1;position: relative;background-color: white;}#sk-container-id-5 div.sk-parallel-item:first-child::after {align-self: flex-end;width: 50%;}#sk-container-id-5 div.sk-parallel-item:last-child::after {align-self: flex-start;width: 50%;}#sk-container-id-5 div.sk-parallel-item:only-child::after {width: 0;}#sk-container-id-5 div.sk-dashed-wrapped {border: 1px dashed gray;margin: 0 0.4em 0.5em 0.4em;box-sizing: border-box;padding-bottom: 0.4em;background-color: white;}#sk-container-id-5 div.sk-label label {font-family: monospace;font-weight: bold;display: inline-block;line-height: 1.2em;}#sk-container-id-5 div.sk-label-container {text-align: center;}#sk-container-id-5 div.sk-container {/* jupyter's `normalize.less` sets `[hidden] { display: none; }` but bootstrap.min.css set `[hidden] { display: none !important; }` so we also need the `!important` here to be able to override the default hidden behavior on the sphinx rendered scikit-learn.org. See: https://github.com/scikit-learn/scikit-learn/issues/21755 */display: inline-block !important;position: relative;}#sk-container-id-5 div.sk-text-repr-fallback {display: none;}</style><div id=\"sk-container-id-5\" class=\"sk-top-container\"><div class=\"sk-text-repr-fallback\"><pre>KNeighborsClassifier()</pre><b>In a Jupyter environment, please rerun this cell to show the HTML representation or trust the notebook. <br />On GitHub, the HTML representation is unable to render, please try loading this page with nbviewer.org.</b></div><div class=\"sk-container\" hidden><div class=\"sk-item\"><div class=\"sk-estimator sk-toggleable\"><input class=\"sk-toggleable__control sk-hidden--visually\" id=\"sk-estimator-id-9\" type=\"checkbox\" checked><label for=\"sk-estimator-id-9\" class=\"sk-toggleable__label sk-toggleable__label-arrow\">KNeighborsClassifier</label><div class=\"sk-toggleable__content\"><pre>KNeighborsClassifier()</pre></div></div></div></div></div>"
      ],
      "text/plain": [
       "KNeighborsClassifier()"
      ]
     },
     "execution_count": 46,
     "metadata": {},
     "output_type": "execute_result"
    }
   ],
   "source": [
    "knn = KNeighborsClassifier()\n",
    "knn.fit(X_train, Y_train)"
   ]
  },
  {
   "cell_type": "code",
   "execution_count": 47,
   "id": "5d521554",
   "metadata": {
    "scrolled": true
   },
   "outputs": [
    {
     "name": "stdout",
     "output_type": "stream",
     "text": [
      "Classification report for model KNeighborsClassifier on training data\n",
      "---------------------------------------------------------------------------------\n",
      "              precision    recall  f1-score   support\n",
      "\n",
      "           0       0.73      0.76      0.75     15005\n",
      "           1       0.75      0.72      0.73     14728\n",
      "\n",
      "    accuracy                           0.74     29733\n",
      "   macro avg       0.74      0.74      0.74     29733\n",
      "weighted avg       0.74      0.74      0.74     29733\n",
      "\n",
      "---------------------------------------------------------------------------------\n",
      "Confusion matrix for training set:\n",
      "       N      P\n",
      "N  11443   3562\n",
      "P   4184  10544\n"
     ]
    }
   ],
   "source": [
    "report(knn, X_train, Y_train)"
   ]
  },
  {
   "cell_type": "code",
   "execution_count": 48,
   "id": "96d9fadc",
   "metadata": {},
   "outputs": [
    {
     "name": "stdout",
     "output_type": "stream",
     "text": [
      "Classification report for model KNeighborsClassifier on test data\n",
      "---------------------------------------------------------------------------------\n",
      "              precision    recall  f1-score   support\n",
      "\n",
      "           0       0.61      0.63      0.62      5077\n",
      "           1       0.60      0.57      0.58      4834\n",
      "\n",
      "    accuracy                           0.60      9911\n",
      "   macro avg       0.60      0.60      0.60      9911\n",
      "weighted avg       0.60      0.60      0.60      9911\n",
      "\n",
      "---------------------------------------------------------------------------------\n",
      "Confusion matrix for test set:\n",
      "      N     P\n",
      "N  3194  1883\n",
      "P  2059  2775\n"
     ]
    }
   ],
   "source": [
    "report(knn, X_test, Y_test, \"test\")"
   ]
  },
  {
   "cell_type": "code",
   "execution_count": 49,
   "id": "e85f5d5d",
   "metadata": {},
   "outputs": [],
   "source": [
    "params = {'n_neighbors': range(5, 41, 5),\n",
    "          'weights': ['uniform'],\n",
    "          'p': [1, 2]\n",
    "         }"
   ]
  },
  {
   "cell_type": "code",
   "execution_count": 50,
   "id": "a5dce0b0",
   "metadata": {},
   "outputs": [],
   "source": [
    "estimator = GridSearchCV(KNeighborsClassifier(), params, cv = 4, verbose = 4)"
   ]
  },
  {
   "cell_type": "code",
   "execution_count": 51,
   "id": "e342b136",
   "metadata": {},
   "outputs": [
    {
     "name": "stdout",
     "output_type": "stream",
     "text": [
      "Fitting 4 folds for each of 16 candidates, totalling 64 fits\n",
      "[CV 1/4] END n_neighbors=5, p=1, weights=uniform;, score=0.606 total time=   3.4s\n",
      "[CV 2/4] END n_neighbors=5, p=1, weights=uniform;, score=0.595 total time=   3.2s\n",
      "[CV 3/4] END n_neighbors=5, p=1, weights=uniform;, score=0.600 total time=   3.3s\n",
      "[CV 4/4] END n_neighbors=5, p=1, weights=uniform;, score=0.605 total time=   3.4s\n",
      "[CV 1/4] END n_neighbors=5, p=2, weights=uniform;, score=0.597 total time=   0.5s\n",
      "[CV 2/4] END n_neighbors=5, p=2, weights=uniform;, score=0.597 total time=   0.5s\n",
      "[CV 3/4] END n_neighbors=5, p=2, weights=uniform;, score=0.593 total time=   0.5s\n",
      "[CV 4/4] END n_neighbors=5, p=2, weights=uniform;, score=0.602 total time=   0.5s\n",
      "[CV 1/4] END n_neighbors=10, p=1, weights=uniform;, score=0.610 total time=   3.3s\n",
      "[CV 2/4] END n_neighbors=10, p=1, weights=uniform;, score=0.602 total time=   3.5s\n",
      "[CV 3/4] END n_neighbors=10, p=1, weights=uniform;, score=0.614 total time=   3.4s\n",
      "[CV 4/4] END n_neighbors=10, p=1, weights=uniform;, score=0.616 total time=   3.4s\n",
      "[CV 1/4] END n_neighbors=10, p=2, weights=uniform;, score=0.608 total time=   0.6s\n",
      "[CV 2/4] END n_neighbors=10, p=2, weights=uniform;, score=0.605 total time=   0.6s\n",
      "[CV 3/4] END n_neighbors=10, p=2, weights=uniform;, score=0.613 total time=   0.6s\n",
      "[CV 4/4] END n_neighbors=10, p=2, weights=uniform;, score=0.607 total time=   0.6s\n",
      "[CV 1/4] END n_neighbors=15, p=1, weights=uniform;, score=0.626 total time=   3.5s\n",
      "[CV 2/4] END n_neighbors=15, p=1, weights=uniform;, score=0.615 total time=   3.5s\n",
      "[CV 3/4] END n_neighbors=15, p=1, weights=uniform;, score=0.627 total time=   5.7s\n",
      "[CV 4/4] END n_neighbors=15, p=1, weights=uniform;, score=0.623 total time=   4.1s\n",
      "[CV 1/4] END n_neighbors=15, p=2, weights=uniform;, score=0.617 total time=   0.7s\n",
      "[CV 2/4] END n_neighbors=15, p=2, weights=uniform;, score=0.614 total time=   0.6s\n",
      "[CV 3/4] END n_neighbors=15, p=2, weights=uniform;, score=0.617 total time=   0.6s\n",
      "[CV 4/4] END n_neighbors=15, p=2, weights=uniform;, score=0.620 total time=   0.8s\n",
      "[CV 1/4] END n_neighbors=20, p=1, weights=uniform;, score=0.627 total time=   3.8s\n",
      "[CV 2/4] END n_neighbors=20, p=1, weights=uniform;, score=0.624 total time=   3.7s\n",
      "[CV 3/4] END n_neighbors=20, p=1, weights=uniform;, score=0.626 total time=   3.6s\n",
      "[CV 4/4] END n_neighbors=20, p=1, weights=uniform;, score=0.625 total time=   4.8s\n",
      "[CV 1/4] END n_neighbors=20, p=2, weights=uniform;, score=0.618 total time=   2.9s\n",
      "[CV 2/4] END n_neighbors=20, p=2, weights=uniform;, score=0.614 total time=   3.3s\n",
      "[CV 3/4] END n_neighbors=20, p=2, weights=uniform;, score=0.621 total time=   3.1s\n",
      "[CV 4/4] END n_neighbors=20, p=2, weights=uniform;, score=0.617 total time=   2.9s\n",
      "[CV 1/4] END n_neighbors=25, p=1, weights=uniform;, score=0.625 total time=   6.5s\n",
      "[CV 2/4] END n_neighbors=25, p=1, weights=uniform;, score=0.631 total time=   6.9s\n",
      "[CV 3/4] END n_neighbors=25, p=1, weights=uniform;, score=0.631 total time=   6.6s\n",
      "[CV 4/4] END n_neighbors=25, p=1, weights=uniform;, score=0.630 total time=   5.7s\n",
      "[CV 1/4] END n_neighbors=25, p=2, weights=uniform;, score=0.621 total time=   0.6s\n",
      "[CV 2/4] END n_neighbors=25, p=2, weights=uniform;, score=0.620 total time=   0.6s\n",
      "[CV 3/4] END n_neighbors=25, p=2, weights=uniform;, score=0.625 total time=   0.6s\n",
      "[CV 4/4] END n_neighbors=25, p=2, weights=uniform;, score=0.620 total time=   0.7s\n",
      "[CV 1/4] END n_neighbors=30, p=1, weights=uniform;, score=0.627 total time=   3.4s\n",
      "[CV 2/4] END n_neighbors=30, p=1, weights=uniform;, score=0.631 total time=   3.5s\n",
      "[CV 3/4] END n_neighbors=30, p=1, weights=uniform;, score=0.627 total time=   3.4s\n",
      "[CV 4/4] END n_neighbors=30, p=1, weights=uniform;, score=0.626 total time=   3.4s\n",
      "[CV 1/4] END n_neighbors=30, p=2, weights=uniform;, score=0.620 total time=   0.6s\n",
      "[CV 2/4] END n_neighbors=30, p=2, weights=uniform;, score=0.624 total time=   0.6s\n",
      "[CV 3/4] END n_neighbors=30, p=2, weights=uniform;, score=0.623 total time=   0.6s\n",
      "[CV 4/4] END n_neighbors=30, p=2, weights=uniform;, score=0.620 total time=   0.6s\n",
      "[CV 1/4] END n_neighbors=35, p=1, weights=uniform;, score=0.630 total time=   3.4s\n",
      "[CV 2/4] END n_neighbors=35, p=1, weights=uniform;, score=0.635 total time=   3.5s\n",
      "[CV 3/4] END n_neighbors=35, p=1, weights=uniform;, score=0.631 total time=   3.5s\n",
      "[CV 4/4] END n_neighbors=35, p=1, weights=uniform;, score=0.631 total time=   3.4s\n",
      "[CV 1/4] END n_neighbors=35, p=2, weights=uniform;, score=0.622 total time=   0.6s\n",
      "[CV 2/4] END n_neighbors=35, p=2, weights=uniform;, score=0.626 total time=   0.6s\n",
      "[CV 3/4] END n_neighbors=35, p=2, weights=uniform;, score=0.628 total time=   0.6s\n",
      "[CV 4/4] END n_neighbors=35, p=2, weights=uniform;, score=0.628 total time=   0.6s\n",
      "[CV 1/4] END n_neighbors=40, p=1, weights=uniform;, score=0.625 total time=   3.5s\n",
      "[CV 2/4] END n_neighbors=40, p=1, weights=uniform;, score=0.637 total time=   3.5s\n",
      "[CV 3/4] END n_neighbors=40, p=1, weights=uniform;, score=0.629 total time=   3.5s\n",
      "[CV 4/4] END n_neighbors=40, p=1, weights=uniform;, score=0.631 total time=   3.5s\n",
      "[CV 1/4] END n_neighbors=40, p=2, weights=uniform;, score=0.625 total time=   0.7s\n",
      "[CV 2/4] END n_neighbors=40, p=2, weights=uniform;, score=0.625 total time=   0.6s\n",
      "[CV 3/4] END n_neighbors=40, p=2, weights=uniform;, score=0.622 total time=   0.7s\n",
      "[CV 4/4] END n_neighbors=40, p=2, weights=uniform;, score=0.625 total time=   0.7s\n"
     ]
    },
    {
     "data": {
      "text/html": [
       "<style>#sk-container-id-6 {color: black;background-color: white;}#sk-container-id-6 pre{padding: 0;}#sk-container-id-6 div.sk-toggleable {background-color: white;}#sk-container-id-6 label.sk-toggleable__label {cursor: pointer;display: block;width: 100%;margin-bottom: 0;padding: 0.3em;box-sizing: border-box;text-align: center;}#sk-container-id-6 label.sk-toggleable__label-arrow:before {content: \"▸\";float: left;margin-right: 0.25em;color: #696969;}#sk-container-id-6 label.sk-toggleable__label-arrow:hover:before {color: black;}#sk-container-id-6 div.sk-estimator:hover label.sk-toggleable__label-arrow:before {color: black;}#sk-container-id-6 div.sk-toggleable__content {max-height: 0;max-width: 0;overflow: hidden;text-align: left;background-color: #f0f8ff;}#sk-container-id-6 div.sk-toggleable__content pre {margin: 0.2em;color: black;border-radius: 0.25em;background-color: #f0f8ff;}#sk-container-id-6 input.sk-toggleable__control:checked~div.sk-toggleable__content {max-height: 200px;max-width: 100%;overflow: auto;}#sk-container-id-6 input.sk-toggleable__control:checked~label.sk-toggleable__label-arrow:before {content: \"▾\";}#sk-container-id-6 div.sk-estimator input.sk-toggleable__control:checked~label.sk-toggleable__label {background-color: #d4ebff;}#sk-container-id-6 div.sk-label input.sk-toggleable__control:checked~label.sk-toggleable__label {background-color: #d4ebff;}#sk-container-id-6 input.sk-hidden--visually {border: 0;clip: rect(1px 1px 1px 1px);clip: rect(1px, 1px, 1px, 1px);height: 1px;margin: -1px;overflow: hidden;padding: 0;position: absolute;width: 1px;}#sk-container-id-6 div.sk-estimator {font-family: monospace;background-color: #f0f8ff;border: 1px dotted black;border-radius: 0.25em;box-sizing: border-box;margin-bottom: 0.5em;}#sk-container-id-6 div.sk-estimator:hover {background-color: #d4ebff;}#sk-container-id-6 div.sk-parallel-item::after {content: \"\";width: 100%;border-bottom: 1px solid gray;flex-grow: 1;}#sk-container-id-6 div.sk-label:hover label.sk-toggleable__label {background-color: #d4ebff;}#sk-container-id-6 div.sk-serial::before {content: \"\";position: absolute;border-left: 1px solid gray;box-sizing: border-box;top: 0;bottom: 0;left: 50%;z-index: 0;}#sk-container-id-6 div.sk-serial {display: flex;flex-direction: column;align-items: center;background-color: white;padding-right: 0.2em;padding-left: 0.2em;position: relative;}#sk-container-id-6 div.sk-item {position: relative;z-index: 1;}#sk-container-id-6 div.sk-parallel {display: flex;align-items: stretch;justify-content: center;background-color: white;position: relative;}#sk-container-id-6 div.sk-item::before, #sk-container-id-6 div.sk-parallel-item::before {content: \"\";position: absolute;border-left: 1px solid gray;box-sizing: border-box;top: 0;bottom: 0;left: 50%;z-index: -1;}#sk-container-id-6 div.sk-parallel-item {display: flex;flex-direction: column;z-index: 1;position: relative;background-color: white;}#sk-container-id-6 div.sk-parallel-item:first-child::after {align-self: flex-end;width: 50%;}#sk-container-id-6 div.sk-parallel-item:last-child::after {align-self: flex-start;width: 50%;}#sk-container-id-6 div.sk-parallel-item:only-child::after {width: 0;}#sk-container-id-6 div.sk-dashed-wrapped {border: 1px dashed gray;margin: 0 0.4em 0.5em 0.4em;box-sizing: border-box;padding-bottom: 0.4em;background-color: white;}#sk-container-id-6 div.sk-label label {font-family: monospace;font-weight: bold;display: inline-block;line-height: 1.2em;}#sk-container-id-6 div.sk-label-container {text-align: center;}#sk-container-id-6 div.sk-container {/* jupyter's `normalize.less` sets `[hidden] { display: none; }` but bootstrap.min.css set `[hidden] { display: none !important; }` so we also need the `!important` here to be able to override the default hidden behavior on the sphinx rendered scikit-learn.org. See: https://github.com/scikit-learn/scikit-learn/issues/21755 */display: inline-block !important;position: relative;}#sk-container-id-6 div.sk-text-repr-fallback {display: none;}</style><div id=\"sk-container-id-6\" class=\"sk-top-container\"><div class=\"sk-text-repr-fallback\"><pre>GridSearchCV(cv=4, estimator=KNeighborsClassifier(),\n",
       "             param_grid={&#x27;n_neighbors&#x27;: range(5, 41, 5), &#x27;p&#x27;: [1, 2],\n",
       "                         &#x27;weights&#x27;: [&#x27;uniform&#x27;]},\n",
       "             verbose=4)</pre><b>In a Jupyter environment, please rerun this cell to show the HTML representation or trust the notebook. <br />On GitHub, the HTML representation is unable to render, please try loading this page with nbviewer.org.</b></div><div class=\"sk-container\" hidden><div class=\"sk-item sk-dashed-wrapped\"><div class=\"sk-label-container\"><div class=\"sk-label sk-toggleable\"><input class=\"sk-toggleable__control sk-hidden--visually\" id=\"sk-estimator-id-10\" type=\"checkbox\" ><label for=\"sk-estimator-id-10\" class=\"sk-toggleable__label sk-toggleable__label-arrow\">GridSearchCV</label><div class=\"sk-toggleable__content\"><pre>GridSearchCV(cv=4, estimator=KNeighborsClassifier(),\n",
       "             param_grid={&#x27;n_neighbors&#x27;: range(5, 41, 5), &#x27;p&#x27;: [1, 2],\n",
       "                         &#x27;weights&#x27;: [&#x27;uniform&#x27;]},\n",
       "             verbose=4)</pre></div></div></div><div class=\"sk-parallel\"><div class=\"sk-parallel-item\"><div class=\"sk-item\"><div class=\"sk-label-container\"><div class=\"sk-label sk-toggleable\"><input class=\"sk-toggleable__control sk-hidden--visually\" id=\"sk-estimator-id-11\" type=\"checkbox\" ><label for=\"sk-estimator-id-11\" class=\"sk-toggleable__label sk-toggleable__label-arrow\">estimator: KNeighborsClassifier</label><div class=\"sk-toggleable__content\"><pre>KNeighborsClassifier()</pre></div></div></div><div class=\"sk-serial\"><div class=\"sk-item\"><div class=\"sk-estimator sk-toggleable\"><input class=\"sk-toggleable__control sk-hidden--visually\" id=\"sk-estimator-id-12\" type=\"checkbox\" ><label for=\"sk-estimator-id-12\" class=\"sk-toggleable__label sk-toggleable__label-arrow\">KNeighborsClassifier</label><div class=\"sk-toggleable__content\"><pre>KNeighborsClassifier()</pre></div></div></div></div></div></div></div></div></div></div>"
      ],
      "text/plain": [
       "GridSearchCV(cv=4, estimator=KNeighborsClassifier(),\n",
       "             param_grid={'n_neighbors': range(5, 41, 5), 'p': [1, 2],\n",
       "                         'weights': ['uniform']},\n",
       "             verbose=4)"
      ]
     },
     "execution_count": 51,
     "metadata": {},
     "output_type": "execute_result"
    }
   ],
   "source": [
    "estimator.fit(X_train, Y_train)"
   ]
  },
  {
   "cell_type": "code",
   "execution_count": 52,
   "id": "6795ea4c",
   "metadata": {},
   "outputs": [
    {
     "data": {
      "text/plain": [
       "{'n_neighbors': 35, 'p': 1, 'weights': 'uniform'}"
      ]
     },
     "execution_count": 52,
     "metadata": {},
     "output_type": "execute_result"
    }
   ],
   "source": [
    "estimator.best_params_"
   ]
  },
  {
   "cell_type": "code",
   "execution_count": 53,
   "id": "2e8dbf9a",
   "metadata": {},
   "outputs": [
    {
     "data": {
      "text/plain": [
       "0.631991440818944"
      ]
     },
     "execution_count": 53,
     "metadata": {},
     "output_type": "execute_result"
    }
   ],
   "source": [
    "estimator.best_score_"
   ]
  },
  {
   "cell_type": "code",
   "execution_count": 54,
   "id": "4400c2d2",
   "metadata": {},
   "outputs": [
    {
     "name": "stdout",
     "output_type": "stream",
     "text": [
      "Classification report for model KNeighborsClassifier on training data\n",
      "---------------------------------------------------------------------------------\n",
      "              precision    recall  f1-score   support\n",
      "\n",
      "           0       0.65      0.71      0.68     15005\n",
      "           1       0.67      0.61      0.64     14728\n",
      "\n",
      "    accuracy                           0.66     29733\n",
      "   macro avg       0.66      0.66      0.66     29733\n",
      "weighted avg       0.66      0.66      0.66     29733\n",
      "\n",
      "---------------------------------------------------------------------------------\n",
      "Confusion matrix for training set:\n",
      "       N     P\n",
      "N  10625  4380\n",
      "P   5719  9009\n"
     ]
    }
   ],
   "source": [
    "report(estimator.best_estimator_, X_train, Y_train)"
   ]
  },
  {
   "cell_type": "code",
   "execution_count": 55,
   "id": "f8d62291",
   "metadata": {},
   "outputs": [
    {
     "name": "stdout",
     "output_type": "stream",
     "text": [
      "Classification report for model KNeighborsClassifier on test data\n",
      "---------------------------------------------------------------------------------\n",
      "              precision    recall  f1-score   support\n",
      "\n",
      "           0       0.63      0.68      0.66      5077\n",
      "           1       0.64      0.59      0.61      4834\n",
      "\n",
      "    accuracy                           0.64      9911\n",
      "   macro avg       0.64      0.63      0.63      9911\n",
      "weighted avg       0.64      0.64      0.63      9911\n",
      "\n",
      "---------------------------------------------------------------------------------\n",
      "Confusion matrix for test set:\n",
      "      N     P\n",
      "N  3447  1630\n",
      "P  1982  2852\n"
     ]
    }
   ],
   "source": [
    "report(estimator.best_estimator_, X_test, Y_test, 'test')"
   ]
  },
  {
   "cell_type": "code",
   "execution_count": 56,
   "id": "82ad2ac6",
   "metadata": {},
   "outputs": [
    {
     "data": {
      "text/html": [
       "<style>#sk-container-id-7 {color: black;background-color: white;}#sk-container-id-7 pre{padding: 0;}#sk-container-id-7 div.sk-toggleable {background-color: white;}#sk-container-id-7 label.sk-toggleable__label {cursor: pointer;display: block;width: 100%;margin-bottom: 0;padding: 0.3em;box-sizing: border-box;text-align: center;}#sk-container-id-7 label.sk-toggleable__label-arrow:before {content: \"▸\";float: left;margin-right: 0.25em;color: #696969;}#sk-container-id-7 label.sk-toggleable__label-arrow:hover:before {color: black;}#sk-container-id-7 div.sk-estimator:hover label.sk-toggleable__label-arrow:before {color: black;}#sk-container-id-7 div.sk-toggleable__content {max-height: 0;max-width: 0;overflow: hidden;text-align: left;background-color: #f0f8ff;}#sk-container-id-7 div.sk-toggleable__content pre {margin: 0.2em;color: black;border-radius: 0.25em;background-color: #f0f8ff;}#sk-container-id-7 input.sk-toggleable__control:checked~div.sk-toggleable__content {max-height: 200px;max-width: 100%;overflow: auto;}#sk-container-id-7 input.sk-toggleable__control:checked~label.sk-toggleable__label-arrow:before {content: \"▾\";}#sk-container-id-7 div.sk-estimator input.sk-toggleable__control:checked~label.sk-toggleable__label {background-color: #d4ebff;}#sk-container-id-7 div.sk-label input.sk-toggleable__control:checked~label.sk-toggleable__label {background-color: #d4ebff;}#sk-container-id-7 input.sk-hidden--visually {border: 0;clip: rect(1px 1px 1px 1px);clip: rect(1px, 1px, 1px, 1px);height: 1px;margin: -1px;overflow: hidden;padding: 0;position: absolute;width: 1px;}#sk-container-id-7 div.sk-estimator {font-family: monospace;background-color: #f0f8ff;border: 1px dotted black;border-radius: 0.25em;box-sizing: border-box;margin-bottom: 0.5em;}#sk-container-id-7 div.sk-estimator:hover {background-color: #d4ebff;}#sk-container-id-7 div.sk-parallel-item::after {content: \"\";width: 100%;border-bottom: 1px solid gray;flex-grow: 1;}#sk-container-id-7 div.sk-label:hover label.sk-toggleable__label {background-color: #d4ebff;}#sk-container-id-7 div.sk-serial::before {content: \"\";position: absolute;border-left: 1px solid gray;box-sizing: border-box;top: 0;bottom: 0;left: 50%;z-index: 0;}#sk-container-id-7 div.sk-serial {display: flex;flex-direction: column;align-items: center;background-color: white;padding-right: 0.2em;padding-left: 0.2em;position: relative;}#sk-container-id-7 div.sk-item {position: relative;z-index: 1;}#sk-container-id-7 div.sk-parallel {display: flex;align-items: stretch;justify-content: center;background-color: white;position: relative;}#sk-container-id-7 div.sk-item::before, #sk-container-id-7 div.sk-parallel-item::before {content: \"\";position: absolute;border-left: 1px solid gray;box-sizing: border-box;top: 0;bottom: 0;left: 50%;z-index: -1;}#sk-container-id-7 div.sk-parallel-item {display: flex;flex-direction: column;z-index: 1;position: relative;background-color: white;}#sk-container-id-7 div.sk-parallel-item:first-child::after {align-self: flex-end;width: 50%;}#sk-container-id-7 div.sk-parallel-item:last-child::after {align-self: flex-start;width: 50%;}#sk-container-id-7 div.sk-parallel-item:only-child::after {width: 0;}#sk-container-id-7 div.sk-dashed-wrapped {border: 1px dashed gray;margin: 0 0.4em 0.5em 0.4em;box-sizing: border-box;padding-bottom: 0.4em;background-color: white;}#sk-container-id-7 div.sk-label label {font-family: monospace;font-weight: bold;display: inline-block;line-height: 1.2em;}#sk-container-id-7 div.sk-label-container {text-align: center;}#sk-container-id-7 div.sk-container {/* jupyter's `normalize.less` sets `[hidden] { display: none; }` but bootstrap.min.css set `[hidden] { display: none !important; }` so we also need the `!important` here to be able to override the default hidden behavior on the sphinx rendered scikit-learn.org. See: https://github.com/scikit-learn/scikit-learn/issues/21755 */display: inline-block !important;position: relative;}#sk-container-id-7 div.sk-text-repr-fallback {display: none;}</style><div id=\"sk-container-id-7\" class=\"sk-top-container\"><div class=\"sk-text-repr-fallback\"><pre>KNeighborsClassifier()</pre><b>In a Jupyter environment, please rerun this cell to show the HTML representation or trust the notebook. <br />On GitHub, the HTML representation is unable to render, please try loading this page with nbviewer.org.</b></div><div class=\"sk-container\" hidden><div class=\"sk-item\"><div class=\"sk-estimator sk-toggleable\"><input class=\"sk-toggleable__control sk-hidden--visually\" id=\"sk-estimator-id-13\" type=\"checkbox\" checked><label for=\"sk-estimator-id-13\" class=\"sk-toggleable__label sk-toggleable__label-arrow\">KNeighborsClassifier</label><div class=\"sk-toggleable__content\"><pre>KNeighborsClassifier()</pre></div></div></div></div></div>"
      ],
      "text/plain": [
       "KNeighborsClassifier()"
      ]
     },
     "execution_count": 56,
     "metadata": {},
     "output_type": "execute_result"
    }
   ],
   "source": [
    "knn.fit(X_train_iqr, Y_train)"
   ]
  },
  {
   "cell_type": "code",
   "execution_count": 57,
   "id": "def0405c",
   "metadata": {},
   "outputs": [
    {
     "name": "stdout",
     "output_type": "stream",
     "text": [
      "Classification report for model KNeighborsClassifier on training data\n",
      "---------------------------------------------------------------------------------\n",
      "              precision    recall  f1-score   support\n",
      "\n",
      "           0       0.72      0.74      0.73     15005\n",
      "           1       0.73      0.71      0.72     14728\n",
      "\n",
      "    accuracy                           0.73     29733\n",
      "   macro avg       0.73      0.73      0.73     29733\n",
      "weighted avg       0.73      0.73      0.73     29733\n",
      "\n",
      "---------------------------------------------------------------------------------\n",
      "Confusion matrix for training set:\n",
      "       N      P\n",
      "N  11082   3923\n",
      "P   4237  10491\n"
     ]
    }
   ],
   "source": [
    "report(knn, X_train_iqr, Y_train)"
   ]
  },
  {
   "cell_type": "code",
   "execution_count": 58,
   "id": "8c6fd667",
   "metadata": {},
   "outputs": [
    {
     "name": "stdout",
     "output_type": "stream",
     "text": [
      "Classification report for model KNeighborsClassifier on test data\n",
      "---------------------------------------------------------------------------------\n",
      "              precision    recall  f1-score   support\n",
      "\n",
      "           0       0.59      0.60      0.60      5077\n",
      "           1       0.58      0.56      0.57      4834\n",
      "\n",
      "    accuracy                           0.58      9911\n",
      "   macro avg       0.58      0.58      0.58      9911\n",
      "weighted avg       0.58      0.58      0.58      9911\n",
      "\n",
      "---------------------------------------------------------------------------------\n",
      "Confusion matrix for test set:\n",
      "      N     P\n",
      "N  3066  2011\n",
      "P  2103  2731\n"
     ]
    }
   ],
   "source": [
    "report(knn, X_test_iqr, Y_test, 'test')"
   ]
  },
  {
   "cell_type": "code",
   "execution_count": 59,
   "id": "1e75f30e",
   "metadata": {},
   "outputs": [
    {
     "name": "stdout",
     "output_type": "stream",
     "text": [
      "Fitting 4 folds for each of 16 candidates, totalling 64 fits\n",
      "[CV 1/4] END n_neighbors=5, p=1, weights=uniform;, score=0.585 total time=   6.5s\n",
      "[CV 2/4] END n_neighbors=5, p=1, weights=uniform;, score=0.585 total time=   6.6s\n",
      "[CV 3/4] END n_neighbors=5, p=1, weights=uniform;, score=0.582 total time=   6.8s\n",
      "[CV 4/4] END n_neighbors=5, p=1, weights=uniform;, score=0.583 total time=   6.9s\n",
      "[CV 1/4] END n_neighbors=5, p=2, weights=uniform;, score=0.579 total time=   2.4s\n",
      "[CV 2/4] END n_neighbors=5, p=2, weights=uniform;, score=0.578 total time=   2.6s\n",
      "[CV 3/4] END n_neighbors=5, p=2, weights=uniform;, score=0.578 total time=   2.0s\n",
      "[CV 4/4] END n_neighbors=5, p=2, weights=uniform;, score=0.572 total time=   2.7s\n",
      "[CV 1/4] END n_neighbors=10, p=1, weights=uniform;, score=0.590 total time=   6.2s\n",
      "[CV 2/4] END n_neighbors=10, p=1, weights=uniform;, score=0.591 total time=   6.4s\n",
      "[CV 3/4] END n_neighbors=10, p=1, weights=uniform;, score=0.583 total time=   6.4s\n",
      "[CV 4/4] END n_neighbors=10, p=1, weights=uniform;, score=0.590 total time=   6.5s\n",
      "[CV 1/4] END n_neighbors=10, p=2, weights=uniform;, score=0.587 total time=   2.8s\n",
      "[CV 2/4] END n_neighbors=10, p=2, weights=uniform;, score=0.582 total time=   2.9s\n",
      "[CV 3/4] END n_neighbors=10, p=2, weights=uniform;, score=0.576 total time=   3.0s\n",
      "[CV 4/4] END n_neighbors=10, p=2, weights=uniform;, score=0.584 total time=   2.7s\n",
      "[CV 1/4] END n_neighbors=15, p=1, weights=uniform;, score=0.609 total time=   6.6s\n",
      "[CV 2/4] END n_neighbors=15, p=1, weights=uniform;, score=0.598 total time=   6.7s\n",
      "[CV 3/4] END n_neighbors=15, p=1, weights=uniform;, score=0.599 total time=   6.5s\n",
      "[CV 4/4] END n_neighbors=15, p=1, weights=uniform;, score=0.606 total time=   6.3s\n",
      "[CV 1/4] END n_neighbors=15, p=2, weights=uniform;, score=0.596 total time=   3.0s\n",
      "[CV 2/4] END n_neighbors=15, p=2, weights=uniform;, score=0.598 total time=   2.7s\n",
      "[CV 3/4] END n_neighbors=15, p=2, weights=uniform;, score=0.588 total time=   3.0s\n",
      "[CV 4/4] END n_neighbors=15, p=2, weights=uniform;, score=0.590 total time=   2.6s\n",
      "[CV 1/4] END n_neighbors=20, p=1, weights=uniform;, score=0.606 total time=   6.8s\n",
      "[CV 2/4] END n_neighbors=20, p=1, weights=uniform;, score=0.603 total time=   6.7s\n",
      "[CV 3/4] END n_neighbors=20, p=1, weights=uniform;, score=0.599 total time=   6.5s\n",
      "[CV 4/4] END n_neighbors=20, p=1, weights=uniform;, score=0.600 total time=   6.5s\n",
      "[CV 1/4] END n_neighbors=20, p=2, weights=uniform;, score=0.593 total time=   3.1s\n",
      "[CV 2/4] END n_neighbors=20, p=2, weights=uniform;, score=0.592 total time=   2.6s\n",
      "[CV 3/4] END n_neighbors=20, p=2, weights=uniform;, score=0.585 total time=   2.6s\n",
      "[CV 4/4] END n_neighbors=20, p=2, weights=uniform;, score=0.595 total time=   3.1s\n",
      "[CV 1/4] END n_neighbors=25, p=1, weights=uniform;, score=0.615 total time=   6.6s\n",
      "[CV 2/4] END n_neighbors=25, p=1, weights=uniform;, score=0.609 total time=   7.4s\n",
      "[CV 3/4] END n_neighbors=25, p=1, weights=uniform;, score=0.610 total time=   6.6s\n",
      "[CV 4/4] END n_neighbors=25, p=1, weights=uniform;, score=0.608 total time=   6.5s\n",
      "[CV 1/4] END n_neighbors=25, p=2, weights=uniform;, score=0.601 total time=   3.2s\n",
      "[CV 2/4] END n_neighbors=25, p=2, weights=uniform;, score=0.603 total time=   2.5s\n",
      "[CV 3/4] END n_neighbors=25, p=2, weights=uniform;, score=0.591 total time=   3.0s\n",
      "[CV 4/4] END n_neighbors=25, p=2, weights=uniform;, score=0.601 total time=   3.0s\n",
      "[CV 1/4] END n_neighbors=30, p=1, weights=uniform;, score=0.614 total time=   6.5s\n",
      "[CV 2/4] END n_neighbors=30, p=1, weights=uniform;, score=0.614 total time=   6.7s\n",
      "[CV 3/4] END n_neighbors=30, p=1, weights=uniform;, score=0.610 total time=   6.5s\n",
      "[CV 4/4] END n_neighbors=30, p=1, weights=uniform;, score=0.607 total time=   6.5s\n",
      "[CV 1/4] END n_neighbors=30, p=2, weights=uniform;, score=0.601 total time=   2.9s\n",
      "[CV 2/4] END n_neighbors=30, p=2, weights=uniform;, score=0.604 total time=   3.2s\n",
      "[CV 3/4] END n_neighbors=30, p=2, weights=uniform;, score=0.591 total time=   3.0s\n",
      "[CV 4/4] END n_neighbors=30, p=2, weights=uniform;, score=0.606 total time=   3.2s\n",
      "[CV 1/4] END n_neighbors=35, p=1, weights=uniform;, score=0.614 total time=   6.5s\n",
      "[CV 2/4] END n_neighbors=35, p=1, weights=uniform;, score=0.616 total time=   6.7s\n",
      "[CV 3/4] END n_neighbors=35, p=1, weights=uniform;, score=0.610 total time=   6.6s\n",
      "[CV 4/4] END n_neighbors=35, p=1, weights=uniform;, score=0.610 total time=   6.6s\n",
      "[CV 1/4] END n_neighbors=35, p=2, weights=uniform;, score=0.604 total time=   3.2s\n",
      "[CV 2/4] END n_neighbors=35, p=2, weights=uniform;, score=0.609 total time=   3.3s\n",
      "[CV 3/4] END n_neighbors=35, p=2, weights=uniform;, score=0.598 total time=   3.1s\n",
      "[CV 4/4] END n_neighbors=35, p=2, weights=uniform;, score=0.605 total time=   2.7s\n",
      "[CV 1/4] END n_neighbors=40, p=1, weights=uniform;, score=0.610 total time=   6.6s\n",
      "[CV 2/4] END n_neighbors=40, p=1, weights=uniform;, score=0.619 total time=   6.7s\n",
      "[CV 3/4] END n_neighbors=40, p=1, weights=uniform;, score=0.609 total time=   6.6s\n",
      "[CV 4/4] END n_neighbors=40, p=1, weights=uniform;, score=0.611 total time=   6.6s\n",
      "[CV 1/4] END n_neighbors=40, p=2, weights=uniform;, score=0.604 total time=   3.2s\n",
      "[CV 2/4] END n_neighbors=40, p=2, weights=uniform;, score=0.612 total time=   3.2s\n",
      "[CV 3/4] END n_neighbors=40, p=2, weights=uniform;, score=0.598 total time=   3.2s\n",
      "[CV 4/4] END n_neighbors=40, p=2, weights=uniform;, score=0.606 total time=   3.2s\n"
     ]
    },
    {
     "data": {
      "text/html": [
       "<style>#sk-container-id-8 {color: black;background-color: white;}#sk-container-id-8 pre{padding: 0;}#sk-container-id-8 div.sk-toggleable {background-color: white;}#sk-container-id-8 label.sk-toggleable__label {cursor: pointer;display: block;width: 100%;margin-bottom: 0;padding: 0.3em;box-sizing: border-box;text-align: center;}#sk-container-id-8 label.sk-toggleable__label-arrow:before {content: \"▸\";float: left;margin-right: 0.25em;color: #696969;}#sk-container-id-8 label.sk-toggleable__label-arrow:hover:before {color: black;}#sk-container-id-8 div.sk-estimator:hover label.sk-toggleable__label-arrow:before {color: black;}#sk-container-id-8 div.sk-toggleable__content {max-height: 0;max-width: 0;overflow: hidden;text-align: left;background-color: #f0f8ff;}#sk-container-id-8 div.sk-toggleable__content pre {margin: 0.2em;color: black;border-radius: 0.25em;background-color: #f0f8ff;}#sk-container-id-8 input.sk-toggleable__control:checked~div.sk-toggleable__content {max-height: 200px;max-width: 100%;overflow: auto;}#sk-container-id-8 input.sk-toggleable__control:checked~label.sk-toggleable__label-arrow:before {content: \"▾\";}#sk-container-id-8 div.sk-estimator input.sk-toggleable__control:checked~label.sk-toggleable__label {background-color: #d4ebff;}#sk-container-id-8 div.sk-label input.sk-toggleable__control:checked~label.sk-toggleable__label {background-color: #d4ebff;}#sk-container-id-8 input.sk-hidden--visually {border: 0;clip: rect(1px 1px 1px 1px);clip: rect(1px, 1px, 1px, 1px);height: 1px;margin: -1px;overflow: hidden;padding: 0;position: absolute;width: 1px;}#sk-container-id-8 div.sk-estimator {font-family: monospace;background-color: #f0f8ff;border: 1px dotted black;border-radius: 0.25em;box-sizing: border-box;margin-bottom: 0.5em;}#sk-container-id-8 div.sk-estimator:hover {background-color: #d4ebff;}#sk-container-id-8 div.sk-parallel-item::after {content: \"\";width: 100%;border-bottom: 1px solid gray;flex-grow: 1;}#sk-container-id-8 div.sk-label:hover label.sk-toggleable__label {background-color: #d4ebff;}#sk-container-id-8 div.sk-serial::before {content: \"\";position: absolute;border-left: 1px solid gray;box-sizing: border-box;top: 0;bottom: 0;left: 50%;z-index: 0;}#sk-container-id-8 div.sk-serial {display: flex;flex-direction: column;align-items: center;background-color: white;padding-right: 0.2em;padding-left: 0.2em;position: relative;}#sk-container-id-8 div.sk-item {position: relative;z-index: 1;}#sk-container-id-8 div.sk-parallel {display: flex;align-items: stretch;justify-content: center;background-color: white;position: relative;}#sk-container-id-8 div.sk-item::before, #sk-container-id-8 div.sk-parallel-item::before {content: \"\";position: absolute;border-left: 1px solid gray;box-sizing: border-box;top: 0;bottom: 0;left: 50%;z-index: -1;}#sk-container-id-8 div.sk-parallel-item {display: flex;flex-direction: column;z-index: 1;position: relative;background-color: white;}#sk-container-id-8 div.sk-parallel-item:first-child::after {align-self: flex-end;width: 50%;}#sk-container-id-8 div.sk-parallel-item:last-child::after {align-self: flex-start;width: 50%;}#sk-container-id-8 div.sk-parallel-item:only-child::after {width: 0;}#sk-container-id-8 div.sk-dashed-wrapped {border: 1px dashed gray;margin: 0 0.4em 0.5em 0.4em;box-sizing: border-box;padding-bottom: 0.4em;background-color: white;}#sk-container-id-8 div.sk-label label {font-family: monospace;font-weight: bold;display: inline-block;line-height: 1.2em;}#sk-container-id-8 div.sk-label-container {text-align: center;}#sk-container-id-8 div.sk-container {/* jupyter's `normalize.less` sets `[hidden] { display: none; }` but bootstrap.min.css set `[hidden] { display: none !important; }` so we also need the `!important` here to be able to override the default hidden behavior on the sphinx rendered scikit-learn.org. See: https://github.com/scikit-learn/scikit-learn/issues/21755 */display: inline-block !important;position: relative;}#sk-container-id-8 div.sk-text-repr-fallback {display: none;}</style><div id=\"sk-container-id-8\" class=\"sk-top-container\"><div class=\"sk-text-repr-fallback\"><pre>GridSearchCV(cv=4, estimator=KNeighborsClassifier(),\n",
       "             param_grid={&#x27;n_neighbors&#x27;: range(5, 41, 5), &#x27;p&#x27;: [1, 2],\n",
       "                         &#x27;weights&#x27;: [&#x27;uniform&#x27;]},\n",
       "             verbose=4)</pre><b>In a Jupyter environment, please rerun this cell to show the HTML representation or trust the notebook. <br />On GitHub, the HTML representation is unable to render, please try loading this page with nbviewer.org.</b></div><div class=\"sk-container\" hidden><div class=\"sk-item sk-dashed-wrapped\"><div class=\"sk-label-container\"><div class=\"sk-label sk-toggleable\"><input class=\"sk-toggleable__control sk-hidden--visually\" id=\"sk-estimator-id-14\" type=\"checkbox\" ><label for=\"sk-estimator-id-14\" class=\"sk-toggleable__label sk-toggleable__label-arrow\">GridSearchCV</label><div class=\"sk-toggleable__content\"><pre>GridSearchCV(cv=4, estimator=KNeighborsClassifier(),\n",
       "             param_grid={&#x27;n_neighbors&#x27;: range(5, 41, 5), &#x27;p&#x27;: [1, 2],\n",
       "                         &#x27;weights&#x27;: [&#x27;uniform&#x27;]},\n",
       "             verbose=4)</pre></div></div></div><div class=\"sk-parallel\"><div class=\"sk-parallel-item\"><div class=\"sk-item\"><div class=\"sk-label-container\"><div class=\"sk-label sk-toggleable\"><input class=\"sk-toggleable__control sk-hidden--visually\" id=\"sk-estimator-id-15\" type=\"checkbox\" ><label for=\"sk-estimator-id-15\" class=\"sk-toggleable__label sk-toggleable__label-arrow\">estimator: KNeighborsClassifier</label><div class=\"sk-toggleable__content\"><pre>KNeighborsClassifier()</pre></div></div></div><div class=\"sk-serial\"><div class=\"sk-item\"><div class=\"sk-estimator sk-toggleable\"><input class=\"sk-toggleable__control sk-hidden--visually\" id=\"sk-estimator-id-16\" type=\"checkbox\" ><label for=\"sk-estimator-id-16\" class=\"sk-toggleable__label sk-toggleable__label-arrow\">KNeighborsClassifier</label><div class=\"sk-toggleable__content\"><pre>KNeighborsClassifier()</pre></div></div></div></div></div></div></div></div></div></div>"
      ],
      "text/plain": [
       "GridSearchCV(cv=4, estimator=KNeighborsClassifier(),\n",
       "             param_grid={'n_neighbors': range(5, 41, 5), 'p': [1, 2],\n",
       "                         'weights': ['uniform']},\n",
       "             verbose=4)"
      ]
     },
     "execution_count": 59,
     "metadata": {},
     "output_type": "execute_result"
    }
   ],
   "source": [
    "estimator2 = GridSearchCV(KNeighborsClassifier(), params, cv = 4, verbose = 4)\n",
    "estimator2.fit(X_train_iqr, Y_train)"
   ]
  },
  {
   "cell_type": "code",
   "execution_count": 60,
   "id": "a2d16786",
   "metadata": {
    "scrolled": false
   },
   "outputs": [
    {
     "name": "stdout",
     "output_type": "stream",
     "text": [
      "Classification report for model KNeighborsClassifier on training data\n",
      "---------------------------------------------------------------------------------\n",
      "              precision    recall  f1-score   support\n",
      "\n",
      "           0       0.64      0.68      0.66     15005\n",
      "           1       0.65      0.61      0.63     14728\n",
      "\n",
      "    accuracy                           0.65     29733\n",
      "   macro avg       0.65      0.65      0.65     29733\n",
      "weighted avg       0.65      0.65      0.65     29733\n",
      "\n",
      "---------------------------------------------------------------------------------\n",
      "Confusion matrix for training set:\n",
      "       N     P\n",
      "N  10207  4798\n",
      "P   5688  9040\n",
      "Classification report for model KNeighborsClassifier on test data\n",
      "---------------------------------------------------------------------------------\n",
      "              precision    recall  f1-score   support\n",
      "\n",
      "           0       0.62      0.65      0.63      5077\n",
      "           1       0.61      0.58      0.60      4834\n",
      "\n",
      "    accuracy                           0.61      9911\n",
      "   macro avg       0.61      0.61      0.61      9911\n",
      "weighted avg       0.61      0.61      0.61      9911\n",
      "\n",
      "---------------------------------------------------------------------------------\n",
      "Confusion matrix for test set:\n",
      "      N     P\n",
      "N  3283  1794\n",
      "P  2026  2808\n"
     ]
    }
   ],
   "source": [
    "report(estimator2.best_estimator_, X_train_iqr, Y_train)\n",
    "report(estimator2.best_estimator_, X_test_iqr, Y_test, 'test')"
   ]
  },
  {
   "cell_type": "code",
   "execution_count": 61,
   "id": "41774bb7",
   "metadata": {},
   "outputs": [
    {
     "data": {
      "image/png": "[encoded data removed]",
      "text/plain": [
       "<Figure size 640x480 with 1 Axes>"
      ]
     },
     "metadata": {},
     "output_type": "display_data"
    }
   ],
   "source": [
    "models = [knn, estimator.best_estimator_, estimator2.best_estimator_]\n",
    "model_names = ['KNN', 'GridSearchCV', 'GridSearchCVIQR']\n",
    "for model, model_name in zip(models, model_names):\n",
    "    y_pred = model.predict(X_test)\n",
    "    fpr,tpr, _ = roc_curve(Y_test, y_pred)\n",
    "    auc = roc_auc_score(Y_test, y_pred)\n",
    "    lab = model_name + \"(auc: \" + str(round(auc, 2)) + \")\"\n",
    "    plt.plot(fpr, tpr, label=lab)\n",
    "\n",
    "plt.plot([0, 1], [0, 1], label='Random (auc: 0.5)', color='red')\n",
    "plt.title(\"Model comparison\")\n",
    "plt.legend()\n",
    "plt.show()"
   ]
  },
  {
   "cell_type": "code",
   "execution_count": 62,
   "id": "903cd4dc",
   "metadata": {},
   "outputs": [
    {
     "name": "stdout",
     "output_type": "stream",
     "text": [
      "Stored 'knn' (KNeighborsClassifier)\n",
      "Stored 'knn_grid' (KNeighborsClassifier)\n",
      "Stored 'knn_grid_iqr' (KNeighborsClassifier)\n"
     ]
    }
   ],
   "source": [
    "%store knn\n",
    "knn_grid = estimator.best_estimator_\n",
    "%store knn_grid\n",
    "knn_grid_iqr = estimator2.best_estimator_\n",
    "%store knn_grid_iqr"
   ]
  },
  {
   "cell_type": "code",
   "execution_count": null,
   "id": "1c1fa21a",
   "metadata": {},
   "outputs": [],
   "source": []
  }
 ],
 "metadata": {
  "kernelspec": {
   "display_name": "Python 3 (ipykernel)",
   "language": "python",
   "name": "python3"
  },
  "language_info": {
   "codemirror_mode": {
    "name": "ipython",
    "version": 3
   },
   "file_extension": ".py",
   "mimetype": "text/x-python",
   "name": "python",
   "nbconvert_exporter": "python",
   "pygments_lexer": "ipython3",
   "version": "3.10.6"
  }
 },
 "nbformat": 4,
 "nbformat_minor": 5
}
